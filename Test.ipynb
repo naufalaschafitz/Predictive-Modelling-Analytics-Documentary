{
  "nbformat": 4,
  "nbformat_minor": 0,
  "metadata": {
    "colab": {
      "provenance": [],
      "toc_visible": true
    },
    "kernelspec": {
      "name": "python3",
      "display_name": "Python 3"
    },
    "language_info": {
      "name": "python"
    }
  },
  "cells": [
    {
      "cell_type": "markdown",
      "source": [
        "\n",
        "\n",
        "*   **!! Copy file colab ini ke drive masing-masing !!**\n",
        "*   Jawab soal secara berurutan, pastikan cell kode dan output untuk setiap soal tepat berada dibawah bagian soal tersebut\n",
        "*   Kerjakan dengan maksimal\n",
        "*   Silakan menambahkan library lain kalau memang diperlukan\n",
        "\n",
        "\n",
        "\n",
        "\n",
        "\n"
      ],
      "metadata": {
        "id": "Aox9_AVH9fe4"
      }
    },
    {
      "cell_type": "markdown",
      "source": [
        "# Libraries"
      ],
      "metadata": {
        "id": "QvSdk6dP_Zs9"
      }
    },
    {
      "cell_type": "code",
      "execution_count": null,
      "metadata": {
        "id": "PvbKV4l89ZE9"
      },
      "outputs": [],
      "source": [
        "import pandas as pd\n",
        "import numpy as np\n",
        "import matplotlib.pyplot as plt\n",
        "from matplotlib import ticker\n",
        "import warnings\n",
        "warnings.filterwarnings('ignore')\n",
        "import seaborn as sns\n",
        "import sklearn\n",
        "from sklearn import datasets, preprocessing\n",
        "from sklearn.model_selection import train_test_split\n",
        "from sklearn.naive_bayes import GaussianNB\n",
        "from sklearn.preprocessing import StandardScaler\n",
        "from sklearn.metrics import accuracy_score\n",
        "from sklearn.metrics import classification_report\n",
        "from sklearn.neighbors import KNeighborsClassifier\n",
        "from sklearn.model_selection import cross_val_score\n",
        "from sklearn.svm import SVC\n",
        "from sklearn.linear_model import LogisticRegression\n",
        "from sklearn.tree import DecisionTreeClassifier\n",
        "from sklearn.preprocessing import LabelEncoder\n",
        "from sklearn.cluster import KMeans\n",
        "import yellowbrick\n",
        "from yellowbrick.style import set_palette\n",
        "from yellowbrick.cluster import KElbowVisualizer\n",
        "%matplotlib inline\n"
      ]
    },
    {
      "cell_type": "markdown",
      "source": [
        "# Import Dataset"
      ],
      "metadata": {
        "id": "0FHm-KQ7_u93"
      }
    },
    {
      "cell_type": "markdown",
      "source": [
        "\n",
        "*   gunakan link ini untuk mengimport dataset : https://raw.githubusercontent.com/bayuazra23/datasets/main/Data%20Pergerakan%20Harga.csv\n",
        "*   Simpan dataset dalam variabel bernama \"df\"\n",
        "*   Variabel terikat untuk dataset ini adalah Pergerakan Harga, dengan kolom lain sebagai variable bebas\n",
        "\n",
        "\n"
      ],
      "metadata": {
        "id": "4oAJmgEcAisr"
      }
    },
    {
      "cell_type": "code",
      "source": [
        "df=pd.read_csv('https://raw.githubusercontent.com/bayuazra23/datasets/main/Data%20Pergerakan%20Harga.csv')"
      ],
      "metadata": {
        "id": "j5CjCk6M_zm7"
      },
      "execution_count": null,
      "outputs": []
    },
    {
      "cell_type": "code",
      "source": [
        "df"
      ],
      "metadata": {
        "colab": {
          "base_uri": "https://localhost:8080/",
          "height": 842
        },
        "id": "pvC-cJpu6eQY",
        "outputId": "a693b9a4-586a-46f5-b6e6-6c9dcfbcf323"
      },
      "execution_count": null,
      "outputs": [
        {
          "output_type": "execute_result",
          "data": {
            "text/plain": [
              "       No     Tanggal  Lokasi  Aktual Harga  Aktual Produksi  \\\n",
              "0       1  2008-01-01       1          5006           288577   \n",
              "1      11  2008-01-01      11          5112             7722   \n",
              "2      12  2008-02-01       1          5032           709949   \n",
              "3      23  2008-03-01       1          4878          1622137   \n",
              "4      34  2008-04-01       1          4745          1957305   \n",
              "..    ...         ...     ...           ...              ...   \n",
              "103  1123  2016-07-01       1          8820           646413   \n",
              "104  1134  2016-08-01       1          8747           150588   \n",
              "105  1145  2016-09-01       1          8725           335396   \n",
              "106  1156  2016-10-01       1          8769          2149952   \n",
              "107  1167  2016-11-01       1          8752           452081   \n",
              "\n",
              "     Aktual Luas Tanam  Aktual Curah Hujan  Aktual Bencana  \\\n",
              "0               194599               240.9             1.0   \n",
              "1                12653               463.0             0.0   \n",
              "2                76497               116.5             1.0   \n",
              "3               121151               242.4             1.0   \n",
              "4               260823               297.1             1.0   \n",
              "..                 ...                 ...             ...   \n",
              "103              83590               182.3             1.0   \n",
              "104              68699               128.7             1.0   \n",
              "105              34712               286.2             1.0   \n",
              "106              79631               362.3             1.0   \n",
              "107             348189               442.5             1.0   \n",
              "\n",
              "     Aktual Luas Terkena Hama Stabilitas Harga      Musim            Banjir  \\\n",
              "0                         0.0           Stabil  Penghujan            Banjir   \n",
              "1                         0.0           Stabil    Kemarau            Banjir   \n",
              "2                         0.0           Stabil  Penghujan            Banjir   \n",
              "3                         0.0           Stabil  Penghujan            Banjir   \n",
              "4                         0.0           Stabil  Penghujan  Tidak Ada Banjir   \n",
              "..                        ...              ...        ...               ...   \n",
              "103                    6090.0           STABIL    Kemarau       Ada Bencana   \n",
              "104                    7020.0           STABIL  Penghujan       Ada Bencana   \n",
              "105                    4833.0           STABIL  Penghujan       Ada Bencana   \n",
              "106                    5590.0           STABIL  Penghujan       Ada Bencana   \n",
              "107                    6069.5           STABIL    Kemarau       Ada Bencana   \n",
              "\n",
              "     Prosentase Hama            Hama Pergerakan Harga  Unnamed: 15  \\\n",
              "0           0.000000  Tidak Ada Hama            Turun          NaN   \n",
              "1           0.000000  Tidak Ada Hama             Naik          NaN   \n",
              "2           0.000000  Tidak Ada Hama            Turun          NaN   \n",
              "3           0.000000  Tidak Ada Hama            Turun          NaN   \n",
              "4           0.000000  Tidak Ada Hama            Turun          NaN   \n",
              "..               ...             ...              ...          ...   \n",
              "103         2.863646  Tidak Ada Hama            Turun          NaN   \n",
              "104         3.170074  Tidak Ada Hama            Turun          NaN   \n",
              "105         5.953522  Tidak Ada Hama            Turun          NaN   \n",
              "106         7.261036  Tidak Ada Hama             Naik          NaN   \n",
              "107         8.971019  Tidak Ada Hama            Turun          NaN   \n",
              "\n",
              "     Unnamed: 16  Unnamed: 17 Unnamed: 18  \n",
              "0            NaN          NaN         NaN  \n",
              "1            NaN          NaN         NaN  \n",
              "2            NaN          NaN         NaN  \n",
              "3            NaN          NaN         NaN  \n",
              "4            NaN          NaN         NaN  \n",
              "..           ...          ...         ...  \n",
              "103          NaN          NaN         NaN  \n",
              "104          NaN          NaN         NaN  \n",
              "105          NaN          NaN         NaN  \n",
              "106          NaN          NaN         NaN  \n",
              "107          NaN          NaN         NaN  \n",
              "\n",
              "[108 rows x 19 columns]"
            ],
            "text/html": [
              "\n",
              "  <div id=\"df-39824432-5923-4e95-8ff1-9d944c6976bf\" class=\"colab-df-container\">\n",
              "    <div>\n",
              "<style scoped>\n",
              "    .dataframe tbody tr th:only-of-type {\n",
              "        vertical-align: middle;\n",
              "    }\n",
              "\n",
              "    .dataframe tbody tr th {\n",
              "        vertical-align: top;\n",
              "    }\n",
              "\n",
              "    .dataframe thead th {\n",
              "        text-align: right;\n",
              "    }\n",
              "</style>\n",
              "<table border=\"1\" class=\"dataframe\">\n",
              "  <thead>\n",
              "    <tr style=\"text-align: right;\">\n",
              "      <th></th>\n",
              "      <th>No</th>\n",
              "      <th>Tanggal</th>\n",
              "      <th>Lokasi</th>\n",
              "      <th>Aktual Harga</th>\n",
              "      <th>Aktual Produksi</th>\n",
              "      <th>Aktual Luas Tanam</th>\n",
              "      <th>Aktual Curah Hujan</th>\n",
              "      <th>Aktual Bencana</th>\n",
              "      <th>Aktual Luas Terkena Hama</th>\n",
              "      <th>Stabilitas Harga</th>\n",
              "      <th>Musim</th>\n",
              "      <th>Banjir</th>\n",
              "      <th>Prosentase Hama</th>\n",
              "      <th>Hama</th>\n",
              "      <th>Pergerakan Harga</th>\n",
              "      <th>Unnamed: 15</th>\n",
              "      <th>Unnamed: 16</th>\n",
              "      <th>Unnamed: 17</th>\n",
              "      <th>Unnamed: 18</th>\n",
              "    </tr>\n",
              "  </thead>\n",
              "  <tbody>\n",
              "    <tr>\n",
              "      <th>0</th>\n",
              "      <td>1</td>\n",
              "      <td>2008-01-01</td>\n",
              "      <td>1</td>\n",
              "      <td>5006</td>\n",
              "      <td>288577</td>\n",
              "      <td>194599</td>\n",
              "      <td>240.9</td>\n",
              "      <td>1.0</td>\n",
              "      <td>0.0</td>\n",
              "      <td>Stabil</td>\n",
              "      <td>Penghujan</td>\n",
              "      <td>Banjir</td>\n",
              "      <td>0.000000</td>\n",
              "      <td>Tidak Ada Hama</td>\n",
              "      <td>Turun</td>\n",
              "      <td>NaN</td>\n",
              "      <td>NaN</td>\n",
              "      <td>NaN</td>\n",
              "      <td>NaN</td>\n",
              "    </tr>\n",
              "    <tr>\n",
              "      <th>1</th>\n",
              "      <td>11</td>\n",
              "      <td>2008-01-01</td>\n",
              "      <td>11</td>\n",
              "      <td>5112</td>\n",
              "      <td>7722</td>\n",
              "      <td>12653</td>\n",
              "      <td>463.0</td>\n",
              "      <td>0.0</td>\n",
              "      <td>0.0</td>\n",
              "      <td>Stabil</td>\n",
              "      <td>Kemarau</td>\n",
              "      <td>Banjir</td>\n",
              "      <td>0.000000</td>\n",
              "      <td>Tidak Ada Hama</td>\n",
              "      <td>Naik</td>\n",
              "      <td>NaN</td>\n",
              "      <td>NaN</td>\n",
              "      <td>NaN</td>\n",
              "      <td>NaN</td>\n",
              "    </tr>\n",
              "    <tr>\n",
              "      <th>2</th>\n",
              "      <td>12</td>\n",
              "      <td>2008-02-01</td>\n",
              "      <td>1</td>\n",
              "      <td>5032</td>\n",
              "      <td>709949</td>\n",
              "      <td>76497</td>\n",
              "      <td>116.5</td>\n",
              "      <td>1.0</td>\n",
              "      <td>0.0</td>\n",
              "      <td>Stabil</td>\n",
              "      <td>Penghujan</td>\n",
              "      <td>Banjir</td>\n",
              "      <td>0.000000</td>\n",
              "      <td>Tidak Ada Hama</td>\n",
              "      <td>Turun</td>\n",
              "      <td>NaN</td>\n",
              "      <td>NaN</td>\n",
              "      <td>NaN</td>\n",
              "      <td>NaN</td>\n",
              "    </tr>\n",
              "    <tr>\n",
              "      <th>3</th>\n",
              "      <td>23</td>\n",
              "      <td>2008-03-01</td>\n",
              "      <td>1</td>\n",
              "      <td>4878</td>\n",
              "      <td>1622137</td>\n",
              "      <td>121151</td>\n",
              "      <td>242.4</td>\n",
              "      <td>1.0</td>\n",
              "      <td>0.0</td>\n",
              "      <td>Stabil</td>\n",
              "      <td>Penghujan</td>\n",
              "      <td>Banjir</td>\n",
              "      <td>0.000000</td>\n",
              "      <td>Tidak Ada Hama</td>\n",
              "      <td>Turun</td>\n",
              "      <td>NaN</td>\n",
              "      <td>NaN</td>\n",
              "      <td>NaN</td>\n",
              "      <td>NaN</td>\n",
              "    </tr>\n",
              "    <tr>\n",
              "      <th>4</th>\n",
              "      <td>34</td>\n",
              "      <td>2008-04-01</td>\n",
              "      <td>1</td>\n",
              "      <td>4745</td>\n",
              "      <td>1957305</td>\n",
              "      <td>260823</td>\n",
              "      <td>297.1</td>\n",
              "      <td>1.0</td>\n",
              "      <td>0.0</td>\n",
              "      <td>Stabil</td>\n",
              "      <td>Penghujan</td>\n",
              "      <td>Tidak Ada Banjir</td>\n",
              "      <td>0.000000</td>\n",
              "      <td>Tidak Ada Hama</td>\n",
              "      <td>Turun</td>\n",
              "      <td>NaN</td>\n",
              "      <td>NaN</td>\n",
              "      <td>NaN</td>\n",
              "      <td>NaN</td>\n",
              "    </tr>\n",
              "    <tr>\n",
              "      <th>...</th>\n",
              "      <td>...</td>\n",
              "      <td>...</td>\n",
              "      <td>...</td>\n",
              "      <td>...</td>\n",
              "      <td>...</td>\n",
              "      <td>...</td>\n",
              "      <td>...</td>\n",
              "      <td>...</td>\n",
              "      <td>...</td>\n",
              "      <td>...</td>\n",
              "      <td>...</td>\n",
              "      <td>...</td>\n",
              "      <td>...</td>\n",
              "      <td>...</td>\n",
              "      <td>...</td>\n",
              "      <td>...</td>\n",
              "      <td>...</td>\n",
              "      <td>...</td>\n",
              "      <td>...</td>\n",
              "    </tr>\n",
              "    <tr>\n",
              "      <th>103</th>\n",
              "      <td>1123</td>\n",
              "      <td>2016-07-01</td>\n",
              "      <td>1</td>\n",
              "      <td>8820</td>\n",
              "      <td>646413</td>\n",
              "      <td>83590</td>\n",
              "      <td>182.3</td>\n",
              "      <td>1.0</td>\n",
              "      <td>6090.0</td>\n",
              "      <td>STABIL</td>\n",
              "      <td>Kemarau</td>\n",
              "      <td>Ada Bencana</td>\n",
              "      <td>2.863646</td>\n",
              "      <td>Tidak Ada Hama</td>\n",
              "      <td>Turun</td>\n",
              "      <td>NaN</td>\n",
              "      <td>NaN</td>\n",
              "      <td>NaN</td>\n",
              "      <td>NaN</td>\n",
              "    </tr>\n",
              "    <tr>\n",
              "      <th>104</th>\n",
              "      <td>1134</td>\n",
              "      <td>2016-08-01</td>\n",
              "      <td>1</td>\n",
              "      <td>8747</td>\n",
              "      <td>150588</td>\n",
              "      <td>68699</td>\n",
              "      <td>128.7</td>\n",
              "      <td>1.0</td>\n",
              "      <td>7020.0</td>\n",
              "      <td>STABIL</td>\n",
              "      <td>Penghujan</td>\n",
              "      <td>Ada Bencana</td>\n",
              "      <td>3.170074</td>\n",
              "      <td>Tidak Ada Hama</td>\n",
              "      <td>Turun</td>\n",
              "      <td>NaN</td>\n",
              "      <td>NaN</td>\n",
              "      <td>NaN</td>\n",
              "      <td>NaN</td>\n",
              "    </tr>\n",
              "    <tr>\n",
              "      <th>105</th>\n",
              "      <td>1145</td>\n",
              "      <td>2016-09-01</td>\n",
              "      <td>1</td>\n",
              "      <td>8725</td>\n",
              "      <td>335396</td>\n",
              "      <td>34712</td>\n",
              "      <td>286.2</td>\n",
              "      <td>1.0</td>\n",
              "      <td>4833.0</td>\n",
              "      <td>STABIL</td>\n",
              "      <td>Penghujan</td>\n",
              "      <td>Ada Bencana</td>\n",
              "      <td>5.953522</td>\n",
              "      <td>Tidak Ada Hama</td>\n",
              "      <td>Turun</td>\n",
              "      <td>NaN</td>\n",
              "      <td>NaN</td>\n",
              "      <td>NaN</td>\n",
              "      <td>NaN</td>\n",
              "    </tr>\n",
              "    <tr>\n",
              "      <th>106</th>\n",
              "      <td>1156</td>\n",
              "      <td>2016-10-01</td>\n",
              "      <td>1</td>\n",
              "      <td>8769</td>\n",
              "      <td>2149952</td>\n",
              "      <td>79631</td>\n",
              "      <td>362.3</td>\n",
              "      <td>1.0</td>\n",
              "      <td>5590.0</td>\n",
              "      <td>STABIL</td>\n",
              "      <td>Penghujan</td>\n",
              "      <td>Ada Bencana</td>\n",
              "      <td>7.261036</td>\n",
              "      <td>Tidak Ada Hama</td>\n",
              "      <td>Naik</td>\n",
              "      <td>NaN</td>\n",
              "      <td>NaN</td>\n",
              "      <td>NaN</td>\n",
              "      <td>NaN</td>\n",
              "    </tr>\n",
              "    <tr>\n",
              "      <th>107</th>\n",
              "      <td>1167</td>\n",
              "      <td>2016-11-01</td>\n",
              "      <td>1</td>\n",
              "      <td>8752</td>\n",
              "      <td>452081</td>\n",
              "      <td>348189</td>\n",
              "      <td>442.5</td>\n",
              "      <td>1.0</td>\n",
              "      <td>6069.5</td>\n",
              "      <td>STABIL</td>\n",
              "      <td>Kemarau</td>\n",
              "      <td>Ada Bencana</td>\n",
              "      <td>8.971019</td>\n",
              "      <td>Tidak Ada Hama</td>\n",
              "      <td>Turun</td>\n",
              "      <td>NaN</td>\n",
              "      <td>NaN</td>\n",
              "      <td>NaN</td>\n",
              "      <td>NaN</td>\n",
              "    </tr>\n",
              "  </tbody>\n",
              "</table>\n",
              "<p>108 rows × 19 columns</p>\n",
              "</div>\n",
              "    <div class=\"colab-df-buttons\">\n",
              "\n",
              "  <div class=\"colab-df-container\">\n",
              "    <button class=\"colab-df-convert\" onclick=\"convertToInteractive('df-39824432-5923-4e95-8ff1-9d944c6976bf')\"\n",
              "            title=\"Convert this dataframe to an interactive table.\"\n",
              "            style=\"display:none;\">\n",
              "\n",
              "  <svg xmlns=\"http://www.w3.org/2000/svg\" height=\"24px\" viewBox=\"0 -960 960 960\">\n",
              "    <path d=\"M120-120v-720h720v720H120Zm60-500h600v-160H180v160Zm220 220h160v-160H400v160Zm0 220h160v-160H400v160ZM180-400h160v-160H180v160Zm440 0h160v-160H620v160ZM180-180h160v-160H180v160Zm440 0h160v-160H620v160Z\"/>\n",
              "  </svg>\n",
              "    </button>\n",
              "\n",
              "  <style>\n",
              "    .colab-df-container {\n",
              "      display:flex;\n",
              "      gap: 12px;\n",
              "    }\n",
              "\n",
              "    .colab-df-convert {\n",
              "      background-color: #E8F0FE;\n",
              "      border: none;\n",
              "      border-radius: 50%;\n",
              "      cursor: pointer;\n",
              "      display: none;\n",
              "      fill: #1967D2;\n",
              "      height: 32px;\n",
              "      padding: 0 0 0 0;\n",
              "      width: 32px;\n",
              "    }\n",
              "\n",
              "    .colab-df-convert:hover {\n",
              "      background-color: #E2EBFA;\n",
              "      box-shadow: 0px 1px 2px rgba(60, 64, 67, 0.3), 0px 1px 3px 1px rgba(60, 64, 67, 0.15);\n",
              "      fill: #174EA6;\n",
              "    }\n",
              "\n",
              "    .colab-df-buttons div {\n",
              "      margin-bottom: 4px;\n",
              "    }\n",
              "\n",
              "    [theme=dark] .colab-df-convert {\n",
              "      background-color: #3B4455;\n",
              "      fill: #D2E3FC;\n",
              "    }\n",
              "\n",
              "    [theme=dark] .colab-df-convert:hover {\n",
              "      background-color: #434B5C;\n",
              "      box-shadow: 0px 1px 3px 1px rgba(0, 0, 0, 0.15);\n",
              "      filter: drop-shadow(0px 1px 2px rgba(0, 0, 0, 0.3));\n",
              "      fill: #FFFFFF;\n",
              "    }\n",
              "  </style>\n",
              "\n",
              "    <script>\n",
              "      const buttonEl =\n",
              "        document.querySelector('#df-39824432-5923-4e95-8ff1-9d944c6976bf button.colab-df-convert');\n",
              "      buttonEl.style.display =\n",
              "        google.colab.kernel.accessAllowed ? 'block' : 'none';\n",
              "\n",
              "      async function convertToInteractive(key) {\n",
              "        const element = document.querySelector('#df-39824432-5923-4e95-8ff1-9d944c6976bf');\n",
              "        const dataTable =\n",
              "          await google.colab.kernel.invokeFunction('convertToInteractive',\n",
              "                                                    [key], {});\n",
              "        if (!dataTable) return;\n",
              "\n",
              "        const docLinkHtml = 'Like what you see? Visit the ' +\n",
              "          '<a target=\"_blank\" href=https://colab.research.google.com/notebooks/data_table.ipynb>data table notebook</a>'\n",
              "          + ' to learn more about interactive tables.';\n",
              "        element.innerHTML = '';\n",
              "        dataTable['output_type'] = 'display_data';\n",
              "        await google.colab.output.renderOutput(dataTable, element);\n",
              "        const docLink = document.createElement('div');\n",
              "        docLink.innerHTML = docLinkHtml;\n",
              "        element.appendChild(docLink);\n",
              "      }\n",
              "    </script>\n",
              "  </div>\n",
              "\n",
              "\n",
              "<div id=\"df-afa379e3-7358-4cb7-aaa4-68e083125208\">\n",
              "  <button class=\"colab-df-quickchart\" onclick=\"quickchart('df-afa379e3-7358-4cb7-aaa4-68e083125208')\"\n",
              "            title=\"Suggest charts.\"\n",
              "            style=\"display:none;\">\n",
              "\n",
              "<svg xmlns=\"http://www.w3.org/2000/svg\" height=\"24px\"viewBox=\"0 0 24 24\"\n",
              "     width=\"24px\">\n",
              "    <g>\n",
              "        <path d=\"M19 3H5c-1.1 0-2 .9-2 2v14c0 1.1.9 2 2 2h14c1.1 0 2-.9 2-2V5c0-1.1-.9-2-2-2zM9 17H7v-7h2v7zm4 0h-2V7h2v10zm4 0h-2v-4h2v4z\"/>\n",
              "    </g>\n",
              "</svg>\n",
              "  </button>\n",
              "\n",
              "<style>\n",
              "  .colab-df-quickchart {\n",
              "      --bg-color: #E8F0FE;\n",
              "      --fill-color: #1967D2;\n",
              "      --hover-bg-color: #E2EBFA;\n",
              "      --hover-fill-color: #174EA6;\n",
              "      --disabled-fill-color: #AAA;\n",
              "      --disabled-bg-color: #DDD;\n",
              "  }\n",
              "\n",
              "  [theme=dark] .colab-df-quickchart {\n",
              "      --bg-color: #3B4455;\n",
              "      --fill-color: #D2E3FC;\n",
              "      --hover-bg-color: #434B5C;\n",
              "      --hover-fill-color: #FFFFFF;\n",
              "      --disabled-bg-color: #3B4455;\n",
              "      --disabled-fill-color: #666;\n",
              "  }\n",
              "\n",
              "  .colab-df-quickchart {\n",
              "    background-color: var(--bg-color);\n",
              "    border: none;\n",
              "    border-radius: 50%;\n",
              "    cursor: pointer;\n",
              "    display: none;\n",
              "    fill: var(--fill-color);\n",
              "    height: 32px;\n",
              "    padding: 0;\n",
              "    width: 32px;\n",
              "  }\n",
              "\n",
              "  .colab-df-quickchart:hover {\n",
              "    background-color: var(--hover-bg-color);\n",
              "    box-shadow: 0 1px 2px rgba(60, 64, 67, 0.3), 0 1px 3px 1px rgba(60, 64, 67, 0.15);\n",
              "    fill: var(--button-hover-fill-color);\n",
              "  }\n",
              "\n",
              "  .colab-df-quickchart-complete:disabled,\n",
              "  .colab-df-quickchart-complete:disabled:hover {\n",
              "    background-color: var(--disabled-bg-color);\n",
              "    fill: var(--disabled-fill-color);\n",
              "    box-shadow: none;\n",
              "  }\n",
              "\n",
              "  .colab-df-spinner {\n",
              "    border: 2px solid var(--fill-color);\n",
              "    border-color: transparent;\n",
              "    border-bottom-color: var(--fill-color);\n",
              "    animation:\n",
              "      spin 1s steps(1) infinite;\n",
              "  }\n",
              "\n",
              "  @keyframes spin {\n",
              "    0% {\n",
              "      border-color: transparent;\n",
              "      border-bottom-color: var(--fill-color);\n",
              "      border-left-color: var(--fill-color);\n",
              "    }\n",
              "    20% {\n",
              "      border-color: transparent;\n",
              "      border-left-color: var(--fill-color);\n",
              "      border-top-color: var(--fill-color);\n",
              "    }\n",
              "    30% {\n",
              "      border-color: transparent;\n",
              "      border-left-color: var(--fill-color);\n",
              "      border-top-color: var(--fill-color);\n",
              "      border-right-color: var(--fill-color);\n",
              "    }\n",
              "    40% {\n",
              "      border-color: transparent;\n",
              "      border-right-color: var(--fill-color);\n",
              "      border-top-color: var(--fill-color);\n",
              "    }\n",
              "    60% {\n",
              "      border-color: transparent;\n",
              "      border-right-color: var(--fill-color);\n",
              "    }\n",
              "    80% {\n",
              "      border-color: transparent;\n",
              "      border-right-color: var(--fill-color);\n",
              "      border-bottom-color: var(--fill-color);\n",
              "    }\n",
              "    90% {\n",
              "      border-color: transparent;\n",
              "      border-bottom-color: var(--fill-color);\n",
              "    }\n",
              "  }\n",
              "</style>\n",
              "\n",
              "  <script>\n",
              "    async function quickchart(key) {\n",
              "      const quickchartButtonEl =\n",
              "        document.querySelector('#' + key + ' button');\n",
              "      quickchartButtonEl.disabled = true;  // To prevent multiple clicks.\n",
              "      quickchartButtonEl.classList.add('colab-df-spinner');\n",
              "      try {\n",
              "        const charts = await google.colab.kernel.invokeFunction(\n",
              "            'suggestCharts', [key], {});\n",
              "      } catch (error) {\n",
              "        console.error('Error during call to suggestCharts:', error);\n",
              "      }\n",
              "      quickchartButtonEl.classList.remove('colab-df-spinner');\n",
              "      quickchartButtonEl.classList.add('colab-df-quickchart-complete');\n",
              "    }\n",
              "    (() => {\n",
              "      let quickchartButtonEl =\n",
              "        document.querySelector('#df-afa379e3-7358-4cb7-aaa4-68e083125208 button');\n",
              "      quickchartButtonEl.style.display =\n",
              "        google.colab.kernel.accessAllowed ? 'block' : 'none';\n",
              "    })();\n",
              "  </script>\n",
              "</div>\n",
              "    </div>\n",
              "  </div>\n"
            ]
          },
          "metadata": {},
          "execution_count": 5
        }
      ]
    },
    {
      "cell_type": "code",
      "source": [
        "df.columns"
      ],
      "metadata": {
        "colab": {
          "base_uri": "https://localhost:8080/"
        },
        "id": "iN9y1dAE6wGG",
        "outputId": "572161f2-2851-4702-8922-c99f6d8ee408"
      },
      "execution_count": null,
      "outputs": [
        {
          "output_type": "execute_result",
          "data": {
            "text/plain": [
              "Index(['No', 'Tanggal', 'Lokasi', 'Aktual Harga', 'Aktual Produksi',\n",
              "       'Aktual Luas Tanam', 'Aktual Curah Hujan', 'Aktual Bencana',\n",
              "       'Aktual Luas Terkena Hama', 'Stabilitas Harga', 'Musim', 'Banjir',\n",
              "       'Prosentase Hama', 'Hama', 'Pergerakan Harga', 'Unnamed: 15',\n",
              "       'Unnamed: 16', 'Unnamed: 17', 'Unnamed: 18'],\n",
              "      dtype='object')"
            ]
          },
          "metadata": {},
          "execution_count": 12
        }
      ]
    },
    {
      "cell_type": "code",
      "source": [
        "df.isnull().sum()"
      ],
      "metadata": {
        "id": "V02OLh2W_oHa"
      },
      "execution_count": null,
      "outputs": []
    },
    {
      "cell_type": "markdown",
      "source": [
        "## Lakukan Label encoding untuk kolom kategorikal"
      ],
      "metadata": {
        "id": "tc57oFyNEcmg"
      }
    },
    {
      "cell_type": "markdown",
      "source": [
        "\n",
        "\n",
        "```\n",
        "# contoh proses label encoding\n",
        "for col in df[['sex','island']]:\n",
        "  df[col] = LabelEncoder().fit_transform(df[col])\n",
        "```\n",
        "\n"
      ],
      "metadata": {
        "id": "esBn56Q8BgMu"
      }
    },
    {
      "cell_type": "code",
      "source": [
        "for col in df[['Hama','Stabilitas Harga','Musim','Banjir','Pergerakan Harga']]:\n",
        "  df[col] = LabelEncoder().fit_transform(df[col])"
      ],
      "metadata": {
        "id": "9GZep7TsEgxp"
      },
      "execution_count": null,
      "outputs": []
    },
    {
      "cell_type": "code",
      "source": [
        "df"
      ],
      "metadata": {
        "id": "7xxIWdJi7wHr"
      },
      "execution_count": null,
      "outputs": []
    },
    {
      "cell_type": "code",
      "source": [
        "df_not_encoded=pd.read_csv('https://raw.githubusercontent.com/bayuazra23/datasets/main/Data%20Pergerakan%20Harga.csv')"
      ],
      "metadata": {
        "id": "VQW3H1Fk8EFM"
      },
      "execution_count": null,
      "outputs": []
    },
    {
      "cell_type": "markdown",
      "source": [
        "# EDA"
      ],
      "metadata": {
        "id": "kYOLiFBj_z6p"
      }
    },
    {
      "cell_type": "markdown",
      "source": [
        "**Pertanyaan** : Buatlah 3 buah business case beserta kebutuhan analisis untuk melakukan eksplorasi pada dataset yang ada, jawab business case tersebut dengan berbagai metode statistik.  \n",
        "\n",
        "\n",
        "\n"
      ],
      "metadata": {
        "id": "dN0RjBk-VsmF"
      }
    },
    {
      "cell_type": "code",
      "source": [
        "# \"Ini adalah contoh sebuah business case.  Business case ini diperlukan untuk melihat hubungan pergerakan nilai Y terhadap kondisi X\"\n",
        "[kode]"
      ],
      "metadata": {
        "id": "w7aMPCGnFf7-"
      },
      "execution_count": null,
      "outputs": []
    },
    {
      "cell_type": "code",
      "source": [
        "#Melihat jumlah banjir/bencana yang ada di setiap musimnya\n",
        "df_not_encoded.groupby('Musim').Banjir.value_counts()"
      ],
      "metadata": {
        "id": "xJ_3b7vz-bc2",
        "colab": {
          "base_uri": "https://localhost:8080/"
        },
        "outputId": "f27f1003-686c-4144-9158-8044169ef107"
      },
      "execution_count": null,
      "outputs": [
        {
          "output_type": "execute_result",
          "data": {
            "text/plain": [
              "Musim      Banjir           \n",
              "Kemarau    Ada Bencana          17\n",
              "           Tidak Ada Bencana    15\n",
              "           Tidak Ada Banjir      6\n",
              "           Banjir                4\n",
              "Penghujan  Ada Bencana          48\n",
              "           Banjir                9\n",
              "           Tidak Ada Banjir      5\n",
              "           Tidak Ada Bencana     4\n",
              "Name: Banjir, dtype: int64"
            ]
          },
          "metadata": {},
          "execution_count": 16
        }
      ]
    },
    {
      "cell_type": "code",
      "source": [
        "#melihat aktual harga tertinggi yang ada pada setiap musimnya\n",
        "df_not_encoded.groupby('Musim')['Aktual Harga'].max()"
      ],
      "metadata": {
        "id": "SmReJ6k2-buU",
        "colab": {
          "base_uri": "https://localhost:8080/"
        },
        "outputId": "cd24366e-6067-44d3-e868-71ce3e6cdfc9"
      },
      "execution_count": null,
      "outputs": [
        {
          "output_type": "execute_result",
          "data": {
            "text/plain": [
              "Musim\n",
              "Kemarau      8865\n",
              "Penghujan    9142\n",
              "Name: Aktual Harga, dtype: int64"
            ]
          },
          "metadata": {},
          "execution_count": 38
        }
      ]
    },
    {
      "cell_type": "code",
      "source": [
        "#menunjukan data statistik presentasi hama ketika data menunjukan ada hama atau tidak\n",
        "df_not_encoded.groupby('Hama')['Prosentase Hama'].describe()"
      ],
      "metadata": {
        "id": "YOkCNLsS-b82",
        "colab": {
          "base_uri": "https://localhost:8080/",
          "height": 143
        },
        "outputId": "5d482592-4455-41f2-c3c9-a391fd28c3f0"
      },
      "execution_count": null,
      "outputs": [
        {
          "output_type": "execute_result",
          "data": {
            "text/plain": [
              "                count       mean       std        min        25%        50%  \\\n",
              "Hama                                                                          \n",
              "Ada Hama         21.0  16.469404  5.865215  10.179547  11.516061  16.117707   \n",
              "Tidak Ada Hama   87.0   3.427471  2.862662   0.000000   0.000000   3.232161   \n",
              "\n",
              "                      75%        max  \n",
              "Hama                                  \n",
              "Ada Hama        18.015688  29.723454  \n",
              "Tidak Ada Hama   5.832325   9.694470  "
            ],
            "text/html": [
              "\n",
              "  <div id=\"df-2e4a20dc-ed52-4529-ab89-8b684d01bcdc\" class=\"colab-df-container\">\n",
              "    <div>\n",
              "<style scoped>\n",
              "    .dataframe tbody tr th:only-of-type {\n",
              "        vertical-align: middle;\n",
              "    }\n",
              "\n",
              "    .dataframe tbody tr th {\n",
              "        vertical-align: top;\n",
              "    }\n",
              "\n",
              "    .dataframe thead th {\n",
              "        text-align: right;\n",
              "    }\n",
              "</style>\n",
              "<table border=\"1\" class=\"dataframe\">\n",
              "  <thead>\n",
              "    <tr style=\"text-align: right;\">\n",
              "      <th></th>\n",
              "      <th>count</th>\n",
              "      <th>mean</th>\n",
              "      <th>std</th>\n",
              "      <th>min</th>\n",
              "      <th>25%</th>\n",
              "      <th>50%</th>\n",
              "      <th>75%</th>\n",
              "      <th>max</th>\n",
              "    </tr>\n",
              "    <tr>\n",
              "      <th>Hama</th>\n",
              "      <th></th>\n",
              "      <th></th>\n",
              "      <th></th>\n",
              "      <th></th>\n",
              "      <th></th>\n",
              "      <th></th>\n",
              "      <th></th>\n",
              "      <th></th>\n",
              "    </tr>\n",
              "  </thead>\n",
              "  <tbody>\n",
              "    <tr>\n",
              "      <th>Ada Hama</th>\n",
              "      <td>21.0</td>\n",
              "      <td>16.469404</td>\n",
              "      <td>5.865215</td>\n",
              "      <td>10.179547</td>\n",
              "      <td>11.516061</td>\n",
              "      <td>16.117707</td>\n",
              "      <td>18.015688</td>\n",
              "      <td>29.723454</td>\n",
              "    </tr>\n",
              "    <tr>\n",
              "      <th>Tidak Ada Hama</th>\n",
              "      <td>87.0</td>\n",
              "      <td>3.427471</td>\n",
              "      <td>2.862662</td>\n",
              "      <td>0.000000</td>\n",
              "      <td>0.000000</td>\n",
              "      <td>3.232161</td>\n",
              "      <td>5.832325</td>\n",
              "      <td>9.694470</td>\n",
              "    </tr>\n",
              "  </tbody>\n",
              "</table>\n",
              "</div>\n",
              "    <div class=\"colab-df-buttons\">\n",
              "\n",
              "  <div class=\"colab-df-container\">\n",
              "    <button class=\"colab-df-convert\" onclick=\"convertToInteractive('df-2e4a20dc-ed52-4529-ab89-8b684d01bcdc')\"\n",
              "            title=\"Convert this dataframe to an interactive table.\"\n",
              "            style=\"display:none;\">\n",
              "\n",
              "  <svg xmlns=\"http://www.w3.org/2000/svg\" height=\"24px\" viewBox=\"0 -960 960 960\">\n",
              "    <path d=\"M120-120v-720h720v720H120Zm60-500h600v-160H180v160Zm220 220h160v-160H400v160Zm0 220h160v-160H400v160ZM180-400h160v-160H180v160Zm440 0h160v-160H620v160ZM180-180h160v-160H180v160Zm440 0h160v-160H620v160Z\"/>\n",
              "  </svg>\n",
              "    </button>\n",
              "\n",
              "  <style>\n",
              "    .colab-df-container {\n",
              "      display:flex;\n",
              "      gap: 12px;\n",
              "    }\n",
              "\n",
              "    .colab-df-convert {\n",
              "      background-color: #E8F0FE;\n",
              "      border: none;\n",
              "      border-radius: 50%;\n",
              "      cursor: pointer;\n",
              "      display: none;\n",
              "      fill: #1967D2;\n",
              "      height: 32px;\n",
              "      padding: 0 0 0 0;\n",
              "      width: 32px;\n",
              "    }\n",
              "\n",
              "    .colab-df-convert:hover {\n",
              "      background-color: #E2EBFA;\n",
              "      box-shadow: 0px 1px 2px rgba(60, 64, 67, 0.3), 0px 1px 3px 1px rgba(60, 64, 67, 0.15);\n",
              "      fill: #174EA6;\n",
              "    }\n",
              "\n",
              "    .colab-df-buttons div {\n",
              "      margin-bottom: 4px;\n",
              "    }\n",
              "\n",
              "    [theme=dark] .colab-df-convert {\n",
              "      background-color: #3B4455;\n",
              "      fill: #D2E3FC;\n",
              "    }\n",
              "\n",
              "    [theme=dark] .colab-df-convert:hover {\n",
              "      background-color: #434B5C;\n",
              "      box-shadow: 0px 1px 3px 1px rgba(0, 0, 0, 0.15);\n",
              "      filter: drop-shadow(0px 1px 2px rgba(0, 0, 0, 0.3));\n",
              "      fill: #FFFFFF;\n",
              "    }\n",
              "  </style>\n",
              "\n",
              "    <script>\n",
              "      const buttonEl =\n",
              "        document.querySelector('#df-2e4a20dc-ed52-4529-ab89-8b684d01bcdc button.colab-df-convert');\n",
              "      buttonEl.style.display =\n",
              "        google.colab.kernel.accessAllowed ? 'block' : 'none';\n",
              "\n",
              "      async function convertToInteractive(key) {\n",
              "        const element = document.querySelector('#df-2e4a20dc-ed52-4529-ab89-8b684d01bcdc');\n",
              "        const dataTable =\n",
              "          await google.colab.kernel.invokeFunction('convertToInteractive',\n",
              "                                                    [key], {});\n",
              "        if (!dataTable) return;\n",
              "\n",
              "        const docLinkHtml = 'Like what you see? Visit the ' +\n",
              "          '<a target=\"_blank\" href=https://colab.research.google.com/notebooks/data_table.ipynb>data table notebook</a>'\n",
              "          + ' to learn more about interactive tables.';\n",
              "        element.innerHTML = '';\n",
              "        dataTable['output_type'] = 'display_data';\n",
              "        await google.colab.output.renderOutput(dataTable, element);\n",
              "        const docLink = document.createElement('div');\n",
              "        docLink.innerHTML = docLinkHtml;\n",
              "        element.appendChild(docLink);\n",
              "      }\n",
              "    </script>\n",
              "  </div>\n",
              "\n",
              "\n",
              "<div id=\"df-f5d753ba-6bc2-4c62-b20f-91d6511a23c8\">\n",
              "  <button class=\"colab-df-quickchart\" onclick=\"quickchart('df-f5d753ba-6bc2-4c62-b20f-91d6511a23c8')\"\n",
              "            title=\"Suggest charts.\"\n",
              "            style=\"display:none;\">\n",
              "\n",
              "<svg xmlns=\"http://www.w3.org/2000/svg\" height=\"24px\"viewBox=\"0 0 24 24\"\n",
              "     width=\"24px\">\n",
              "    <g>\n",
              "        <path d=\"M19 3H5c-1.1 0-2 .9-2 2v14c0 1.1.9 2 2 2h14c1.1 0 2-.9 2-2V5c0-1.1-.9-2-2-2zM9 17H7v-7h2v7zm4 0h-2V7h2v10zm4 0h-2v-4h2v4z\"/>\n",
              "    </g>\n",
              "</svg>\n",
              "  </button>\n",
              "\n",
              "<style>\n",
              "  .colab-df-quickchart {\n",
              "      --bg-color: #E8F0FE;\n",
              "      --fill-color: #1967D2;\n",
              "      --hover-bg-color: #E2EBFA;\n",
              "      --hover-fill-color: #174EA6;\n",
              "      --disabled-fill-color: #AAA;\n",
              "      --disabled-bg-color: #DDD;\n",
              "  }\n",
              "\n",
              "  [theme=dark] .colab-df-quickchart {\n",
              "      --bg-color: #3B4455;\n",
              "      --fill-color: #D2E3FC;\n",
              "      --hover-bg-color: #434B5C;\n",
              "      --hover-fill-color: #FFFFFF;\n",
              "      --disabled-bg-color: #3B4455;\n",
              "      --disabled-fill-color: #666;\n",
              "  }\n",
              "\n",
              "  .colab-df-quickchart {\n",
              "    background-color: var(--bg-color);\n",
              "    border: none;\n",
              "    border-radius: 50%;\n",
              "    cursor: pointer;\n",
              "    display: none;\n",
              "    fill: var(--fill-color);\n",
              "    height: 32px;\n",
              "    padding: 0;\n",
              "    width: 32px;\n",
              "  }\n",
              "\n",
              "  .colab-df-quickchart:hover {\n",
              "    background-color: var(--hover-bg-color);\n",
              "    box-shadow: 0 1px 2px rgba(60, 64, 67, 0.3), 0 1px 3px 1px rgba(60, 64, 67, 0.15);\n",
              "    fill: var(--button-hover-fill-color);\n",
              "  }\n",
              "\n",
              "  .colab-df-quickchart-complete:disabled,\n",
              "  .colab-df-quickchart-complete:disabled:hover {\n",
              "    background-color: var(--disabled-bg-color);\n",
              "    fill: var(--disabled-fill-color);\n",
              "    box-shadow: none;\n",
              "  }\n",
              "\n",
              "  .colab-df-spinner {\n",
              "    border: 2px solid var(--fill-color);\n",
              "    border-color: transparent;\n",
              "    border-bottom-color: var(--fill-color);\n",
              "    animation:\n",
              "      spin 1s steps(1) infinite;\n",
              "  }\n",
              "\n",
              "  @keyframes spin {\n",
              "    0% {\n",
              "      border-color: transparent;\n",
              "      border-bottom-color: var(--fill-color);\n",
              "      border-left-color: var(--fill-color);\n",
              "    }\n",
              "    20% {\n",
              "      border-color: transparent;\n",
              "      border-left-color: var(--fill-color);\n",
              "      border-top-color: var(--fill-color);\n",
              "    }\n",
              "    30% {\n",
              "      border-color: transparent;\n",
              "      border-left-color: var(--fill-color);\n",
              "      border-top-color: var(--fill-color);\n",
              "      border-right-color: var(--fill-color);\n",
              "    }\n",
              "    40% {\n",
              "      border-color: transparent;\n",
              "      border-right-color: var(--fill-color);\n",
              "      border-top-color: var(--fill-color);\n",
              "    }\n",
              "    60% {\n",
              "      border-color: transparent;\n",
              "      border-right-color: var(--fill-color);\n",
              "    }\n",
              "    80% {\n",
              "      border-color: transparent;\n",
              "      border-right-color: var(--fill-color);\n",
              "      border-bottom-color: var(--fill-color);\n",
              "    }\n",
              "    90% {\n",
              "      border-color: transparent;\n",
              "      border-bottom-color: var(--fill-color);\n",
              "    }\n",
              "  }\n",
              "</style>\n",
              "\n",
              "  <script>\n",
              "    async function quickchart(key) {\n",
              "      const quickchartButtonEl =\n",
              "        document.querySelector('#' + key + ' button');\n",
              "      quickchartButtonEl.disabled = true;  // To prevent multiple clicks.\n",
              "      quickchartButtonEl.classList.add('colab-df-spinner');\n",
              "      try {\n",
              "        const charts = await google.colab.kernel.invokeFunction(\n",
              "            'suggestCharts', [key], {});\n",
              "      } catch (error) {\n",
              "        console.error('Error during call to suggestCharts:', error);\n",
              "      }\n",
              "      quickchartButtonEl.classList.remove('colab-df-spinner');\n",
              "      quickchartButtonEl.classList.add('colab-df-quickchart-complete');\n",
              "    }\n",
              "    (() => {\n",
              "      let quickchartButtonEl =\n",
              "        document.querySelector('#df-f5d753ba-6bc2-4c62-b20f-91d6511a23c8 button');\n",
              "      quickchartButtonEl.style.display =\n",
              "        google.colab.kernel.accessAllowed ? 'block' : 'none';\n",
              "    })();\n",
              "  </script>\n",
              "</div>\n",
              "    </div>\n",
              "  </div>\n"
            ]
          },
          "metadata": {},
          "execution_count": 42
        }
      ]
    },
    {
      "cell_type": "markdown",
      "source": [
        "# Visualisasi Data"
      ],
      "metadata": {
        "id": "SncZ7rHtQ4_J"
      }
    },
    {
      "cell_type": "markdown",
      "source": [
        "**Pertanyaan** : anda akan diminta untuk membuat sebuah visualisasi untuk setiap jenis grafik yang sudah dipelajari.  Mengenai data yang digunakan untuk setiap grafik, lakukan analisis terhadap dataset, lalu tentukan kolom yang cocok untuk masing-masing jenis grafik. Sertakan reasoning terhadap grafik yang dibuat menggunakan komen, perhatikan contoh cell dibawah"
      ],
      "metadata": {
        "id": "wcBlyhoBRGu6"
      }
    },
    {
      "cell_type": "markdown",
      "source": [
        "## contoh"
      ],
      "metadata": {
        "id": "ZrW8x83cSAis"
      }
    },
    {
      "cell_type": "code",
      "source": [
        "#Grafik barplot untuk membandingkan jumlah pinguin dari setiap pulau\n",
        "[kode]"
      ],
      "metadata": {
        "id": "pFiIw-GeR9wx"
      },
      "execution_count": null,
      "outputs": []
    },
    {
      "cell_type": "markdown",
      "source": [
        "## Barplot"
      ],
      "metadata": {
        "id": "u7m5p0EzSVE3"
      }
    },
    {
      "cell_type": "markdown",
      "source": [
        "\n",
        "\n",
        "```\n",
        "# contoh\n",
        "housing_ames.data.GarageType.value_counts().plot(kind='bar')\n",
        "plt.show()\n",
        "```\n",
        "\n"
      ],
      "metadata": {
        "id": "7HXZGlG_CSo-"
      }
    },
    {
      "cell_type": "code",
      "source": [
        "df_not_encoded['Pergerakan Harga'].value_counts()"
      ],
      "metadata": {
        "colab": {
          "base_uri": "https://localhost:8080/"
        },
        "id": "3mZLIZj6-a4N",
        "outputId": "60e79055-e30b-45b5-bff4-c618760bddde"
      },
      "execution_count": null,
      "outputs": [
        {
          "output_type": "execute_result",
          "data": {
            "text/plain": [
              "Naik     70\n",
              "Turun    38\n",
              "Name: Pergerakan Harga, dtype: int64"
            ]
          },
          "metadata": {},
          "execution_count": 25
        }
      ]
    },
    {
      "cell_type": "code",
      "source": [
        "# [Visualisasi untuk melihat pergerakan harga yang dimiliki]\n",
        "df_not_encoded['Pergerakan Harga'].value_counts().plot(kind=\"bar\",ylabel='frekuensi')"
      ],
      "metadata": {
        "id": "WJyjBewhSW3E",
        "colab": {
          "base_uri": "https://localhost:8080/",
          "height": 523
        },
        "outputId": "bab6f0e0-e9eb-4987-a422-ab7834f38c22"
      },
      "execution_count": null,
      "outputs": [
        {
          "output_type": "execute_result",
          "data": {
            "text/plain": [
              "<Axes: ylabel='frekuensi'>"
            ]
          },
          "metadata": {},
          "execution_count": 65
        },
        {
          "output_type": "display_data",
          "data": {
            "text/plain": [
              "<Figure size 800x550 with 1 Axes>"
            ],
            "image/png": "[encoded data removed]"
          },
          "metadata": {}
        }
      ]
    },
    {
      "cell_type": "markdown",
      "source": [
        "## Line Graph"
      ],
      "metadata": {
        "id": "be3kNMLSSXDl"
      }
    },
    {
      "cell_type": "markdown",
      "source": [
        "\n",
        "\n",
        "```\n",
        "# contoh\n",
        "amtrak.plot(x='date', y='passengers', figsize=(15,8))\n",
        "```\n",
        "\n"
      ],
      "metadata": {
        "id": "aBpV69UHCIPj"
      }
    },
    {
      "cell_type": "code",
      "source": [
        "# [Data aktual harga yang masuk per tanggalnya]\n",
        "df_not_encoded.plot(x='Tanggal', y='Aktual Harga',ylabel='aktual harga')"
      ],
      "metadata": {
        "id": "Xwy06CB6SmYb",
        "colab": {
          "base_uri": "https://localhost:8080/",
          "height": 520
        },
        "outputId": "6387d79c-af81-47b5-c2d3-bdb1f7db3c85"
      },
      "execution_count": null,
      "outputs": [
        {
          "output_type": "execute_result",
          "data": {
            "text/plain": [
              "<Axes: xlabel='Tanggal', ylabel='aktual harga'>"
            ]
          },
          "metadata": {},
          "execution_count": 64
        },
        {
          "output_type": "display_data",
          "data": {
            "text/plain": [
              "<Figure size 800x550 with 1 Axes>"
            ],
            "image/png": "[encoded data removed]"
          },
          "metadata": {}
        }
      ]
    },
    {
      "cell_type": "markdown",
      "source": [
        "## Boxplot"
      ],
      "metadata": {
        "id": "fQrZ91kNSmlV"
      }
    },
    {
      "cell_type": "markdown",
      "source": [
        "\n",
        "\n",
        "```\n",
        "# Contoh\n",
        "housing_df.boxplot(column='AveOccup')\n",
        "```\n",
        "\n"
      ],
      "metadata": {
        "id": "rWIu9C30Cazv"
      }
    },
    {
      "cell_type": "code",
      "source": [
        "# [Melihat distribusi aktual harga yang ada di setiap musimnya]\n",
        "sns.boxplot(data=df_not_encoded, x='Musim', y='Aktual Harga')"
      ],
      "metadata": {
        "id": "m3Sjz6myS13j",
        "colab": {
          "base_uri": "https://localhost:8080/",
          "height": 520
        },
        "outputId": "1bef7a86-1b34-4fcf-cfef-ed40f042b841"
      },
      "execution_count": null,
      "outputs": [
        {
          "output_type": "execute_result",
          "data": {
            "text/plain": [
              "<Axes: xlabel='Musim', ylabel='Aktual Harga'>"
            ]
          },
          "metadata": {},
          "execution_count": 29
        },
        {
          "output_type": "display_data",
          "data": {
            "text/plain": [
              "<Figure size 800x550 with 1 Axes>"
            ],
            "image/png": "[encoded data removed]"
          },
          "metadata": {}
        }
      ]
    },
    {
      "cell_type": "markdown",
      "source": [
        "## Histogram"
      ],
      "metadata": {
        "id": "1eHxUqjuS2QX"
      }
    },
    {
      "cell_type": "markdown",
      "source": [
        "\n",
        "\n",
        "```\n",
        "# contoh\n",
        "fig, axis = plt.subplots(figsize=(20, 8))\n",
        "housing_df.hist(ax=axis)\n",
        "plt.show()\n",
        "```\n",
        "\n"
      ],
      "metadata": {
        "id": "Ul8pa5tOCkLB"
      }
    },
    {
      "cell_type": "code",
      "source": [
        "# [Melihat ditribusi jumlah data aktual produksi]\n",
        "df_not_encoded['Aktual Produksi'].hist(edgecolor='black')"
      ],
      "metadata": {
        "id": "MDI67iBMS7eB",
        "colab": {
          "base_uri": "https://localhost:8080/",
          "height": 519
        },
        "outputId": "c7255f70-04fc-4660-9f40-b39850ba71ef"
      },
      "execution_count": null,
      "outputs": [
        {
          "output_type": "execute_result",
          "data": {
            "text/plain": [
              "<Axes: >"
            ]
          },
          "metadata": {},
          "execution_count": 63
        },
        {
          "output_type": "display_data",
          "data": {
            "text/plain": [
              "<Figure size 800x550 with 1 Axes>"
            ],
            "image/png": "[encoded data removed]"
          },
          "metadata": {}
        }
      ]
    },
    {
      "cell_type": "markdown",
      "source": [
        "# Data Mining"
      ],
      "metadata": {
        "id": "Sx47XhW9_2pI"
      }
    },
    {
      "cell_type": "markdown",
      "source": [
        "**Pertanyaan** :\n",
        "\n",
        "\n",
        "*   Buatlah model menggunakan masing-masing algoritma\n",
        "*   Lakukan spliting data dengan rasio train:test sebesar 80:20\n",
        "*   Tampilkan juga classification report untuk masing-masing model\n"
      ],
      "metadata": {
        "id": "vL62ct8ATdqy"
      }
    },
    {
      "cell_type": "markdown",
      "source": [
        "\n",
        "\n",
        "```\n",
        "# contoh\n",
        "classifier=GaussianNB()\n",
        "classifier=KNeighborsClassifier(n_neighbors=5,metric='minkowski',p=2)\n",
        "classifier = SVC(kernel = 'rbf', random_state = 0)\n",
        "classifier=DecisionTreeClassifier()\n",
        "classifier = LogisticRegression()\n",
        "```\n",
        "\n"
      ],
      "metadata": {
        "id": "vCJ7NevtDPd9"
      }
    },
    {
      "cell_type": "markdown",
      "source": [
        "## Data Preparation"
      ],
      "metadata": {
        "id": "X3UV9gUWC3H5"
      }
    },
    {
      "cell_type": "markdown",
      "source": [
        "\n",
        "\n",
        "```\n",
        "# Contoh\n",
        "X = data_nb.iloc[:, [1,2,3,4]].values\n",
        "y = data_nb.iloc[:, 5].values\n",
        "X_train, X_test, y_train, y_test = train_test_split(X, y, test_size = 0.30, random_state = 0)\n",
        "```\n",
        "\n"
      ],
      "metadata": {
        "id": "Mqfljlm9C8WO"
      }
    },
    {
      "cell_type": "code",
      "source": [
        "data_nb = df.dropna()"
      ],
      "metadata": {
        "id": "5-UyJG4KNqXf"
      },
      "execution_count": null,
      "outputs": []
    },
    {
      "cell_type": "code",
      "source": [
        "data_nb.isnull().sum()"
      ],
      "metadata": {
        "id": "ExkISmXeNyPC"
      },
      "execution_count": null,
      "outputs": []
    },
    {
      "cell_type": "code",
      "source": [
        "X = df.iloc[:, [2,3,4,5,6,7,8,9,10,11,12,13]].values\n",
        "y = df.iloc[:, 14].values\n",
        "X_train, X_test, y_train, y_test = train_test_split(X, y, test_size = 0.20, random_state = 0)"
      ],
      "metadata": {
        "id": "yOcVtY4vBT7t"
      },
      "execution_count": null,
      "outputs": []
    },
    {
      "cell_type": "code",
      "source": [
        "df.columns"
      ],
      "metadata": {
        "colab": {
          "base_uri": "https://localhost:8080/"
        },
        "id": "JW5HQVjkP3Z3",
        "outputId": "ec00017e-2f86-4689-e182-b30b40e955b8"
      },
      "execution_count": null,
      "outputs": [
        {
          "output_type": "execute_result",
          "data": {
            "text/plain": [
              "Index(['No', 'Tanggal', 'Lokasi', 'Aktual Harga', 'Aktual Produksi',\n",
              "       'Aktual Luas Tanam', 'Aktual Curah Hujan', 'Aktual Bencana',\n",
              "       'Aktual Luas Terkena Hama', 'Stabilitas Harga', 'Musim', 'Banjir',\n",
              "       'Prosentase Hama', 'Hama', 'Pergerakan Harga', 'Unnamed: 15',\n",
              "       'Unnamed: 16', 'Unnamed: 17', 'Unnamed: 18'],\n",
              "      dtype='object')"
            ]
          },
          "metadata": {},
          "execution_count": 70
        }
      ]
    },
    {
      "cell_type": "markdown",
      "source": [
        "## Naive Bayes"
      ],
      "metadata": {
        "id": "knJk36wmUrDa"
      }
    },
    {
      "cell_type": "code",
      "source": [
        "Classifier = GaussianNB()\n",
        "Classifier.fit(X_train, y_train)\n",
        "y_pred = Classifier.predict(X_test)\n",
        "\n",
        "acc=accuracy_score(y_test, y_pred)\n",
        "print(acc)"
      ],
      "metadata": {
        "id": "qh0K4UttUvV3",
        "colab": {
          "base_uri": "https://localhost:8080/"
        },
        "outputId": "4824f5aa-687a-4e9b-c22f-c39ee0b2886a"
      },
      "execution_count": null,
      "outputs": [
        {
          "output_type": "stream",
          "name": "stdout",
          "text": [
            "0.7272727272727273\n"
          ]
        }
      ]
    },
    {
      "cell_type": "code",
      "source": [
        "cross_val_score(Classifier, X_test, y_test, cv=10).mean()"
      ],
      "metadata": {
        "colab": {
          "base_uri": "https://localhost:8080/"
        },
        "id": "rRdyZd2RKUEz",
        "outputId": "89f2ab52-7ca1-4021-9682-e6117e34e887"
      },
      "execution_count": null,
      "outputs": [
        {
          "output_type": "execute_result",
          "data": {
            "text/plain": [
              "0.6333333333333333"
            ]
          },
          "metadata": {},
          "execution_count": 74
        }
      ]
    },
    {
      "cell_type": "code",
      "source": [
        "print(classification_report(y_test,y_pred))"
      ],
      "metadata": {
        "colab": {
          "base_uri": "https://localhost:8080/"
        },
        "id": "n7qQ52b_Kcg0",
        "outputId": "61af38e9-375d-4269-9485-a50901025d13"
      },
      "execution_count": null,
      "outputs": [
        {
          "output_type": "stream",
          "name": "stdout",
          "text": [
            "              precision    recall  f1-score   support\n",
            "\n",
            "           0       0.71      0.92      0.80        13\n",
            "           1       0.80      0.44      0.57         9\n",
            "\n",
            "    accuracy                           0.73        22\n",
            "   macro avg       0.75      0.68      0.69        22\n",
            "weighted avg       0.74      0.73      0.71        22\n",
            "\n"
          ]
        }
      ]
    },
    {
      "cell_type": "markdown",
      "source": [
        "## KNN"
      ],
      "metadata": {
        "id": "0WaZXpTYUvpz"
      }
    },
    {
      "cell_type": "markdown",
      "source": [
        "*   coba nilai K sebesar 3, 5, 7, 9. Buatlah model dengan nilai K terbaik\n",
        "\n",
        "\n",
        "\n",
        "\n"
      ],
      "metadata": {
        "id": "eLJHxzL0Uxay"
      }
    },
    {
      "cell_type": "code",
      "source": [
        "for k in [3,5,7,9] :\n",
        "  Classifier = KNeighborsClassifier(n_neighbors=k,metric='minkowski',p=2)\n",
        "  Classifier.fit(X_train, y_train)\n",
        "  y_pred = Classifier.predict(X_test)\n",
        "\n",
        "  acc=accuracy_score(y_test, y_pred)\n",
        "  print(\"k=\",k,\"  acc =\",acc)\n"
      ],
      "metadata": {
        "id": "ALMXxu05_5nP",
        "colab": {
          "base_uri": "https://localhost:8080/"
        },
        "outputId": "4cdf739e-047e-4a16-f756-44bf56bc6070"
      },
      "execution_count": null,
      "outputs": [
        {
          "output_type": "stream",
          "name": "stdout",
          "text": [
            "k= 3   acc = 0.7272727272727273\n",
            "k= 5   acc = 0.7727272727272727\n",
            "k= 7   acc = 0.6818181818181818\n",
            "k= 9   acc = 0.6818181818181818\n"
          ]
        }
      ]
    },
    {
      "cell_type": "code",
      "source": [
        "for k in [3,5,7,9] :\n",
        "  Classifier = KNeighborsClassifier(n_neighbors=k,metric='minkowski',p=2)\n",
        "  Classifier.fit(X_train, y_train)\n",
        "  y_pred = Classifier.predict(X_test)\n",
        "\n",
        "  acc=cross_val_score(Classifier, X_test, y_test, cv=10).mean()\n",
        "  print(\"k=\",k,\"  acc =\",acc)"
      ],
      "metadata": {
        "colab": {
          "base_uri": "https://localhost:8080/"
        },
        "id": "lMwf_1xmKtmR",
        "outputId": "aee3f82c-e86d-4967-b1ff-4e818a091647"
      },
      "execution_count": null,
      "outputs": [
        {
          "output_type": "stream",
          "name": "stdout",
          "text": [
            "k= 3   acc = 0.6833333333333333\n",
            "k= 5   acc = 0.6333333333333333\n",
            "k= 7   acc = 0.5333333333333333\n",
            "k= 9   acc = 0.5833333333333333\n"
          ]
        }
      ]
    },
    {
      "cell_type": "code",
      "source": [
        "print(classification_report(y_test,y_pred))"
      ],
      "metadata": {
        "colab": {
          "base_uri": "https://localhost:8080/"
        },
        "id": "kyBAJ3tZLNEX",
        "outputId": "d2429b12-47b2-4cea-9a8f-5a333e766a8e"
      },
      "execution_count": null,
      "outputs": [
        {
          "output_type": "stream",
          "name": "stdout",
          "text": [
            "              precision    recall  f1-score   support\n",
            "\n",
            "           0       0.69      0.85      0.76        13\n",
            "           1       0.67      0.44      0.53         9\n",
            "\n",
            "    accuracy                           0.68        22\n",
            "   macro avg       0.68      0.65      0.65        22\n",
            "weighted avg       0.68      0.68      0.67        22\n",
            "\n"
          ]
        }
      ]
    },
    {
      "cell_type": "markdown",
      "source": [
        "## SVM"
      ],
      "metadata": {
        "id": "Fz1_o1X6VDbP"
      }
    },
    {
      "cell_type": "code",
      "source": [
        "Classifier = SVC(kernel = 'rbf', random_state = 0)\n",
        "Classifier.fit(X_train, y_train)\n",
        "y_pred = Classifier.predict(X_test)\n",
        "\n",
        "acc=accuracy_score(y_test, y_pred)\n",
        "print(acc)"
      ],
      "metadata": {
        "id": "NGj5Ko_S_5rb",
        "colab": {
          "base_uri": "https://localhost:8080/"
        },
        "outputId": "f70222d7-ad5d-4a52-a86e-385334bb0552"
      },
      "execution_count": null,
      "outputs": [
        {
          "output_type": "stream",
          "name": "stdout",
          "text": [
            "0.6818181818181818\n"
          ]
        }
      ]
    },
    {
      "cell_type": "code",
      "source": [
        "cross_val_score(Classifier, X_test, y_test, cv=10).mean()"
      ],
      "metadata": {
        "colab": {
          "base_uri": "https://localhost:8080/"
        },
        "id": "LTKsKK9SLRZz",
        "outputId": "95ca371d-e1bd-4d2f-a9a4-63f7ef7693fb"
      },
      "execution_count": null,
      "outputs": [
        {
          "output_type": "execute_result",
          "data": {
            "text/plain": [
              "0.7333333333333333"
            ]
          },
          "metadata": {},
          "execution_count": 82
        }
      ]
    },
    {
      "cell_type": "code",
      "source": [
        "print(classification_report(y_test,y_pred))"
      ],
      "metadata": {
        "colab": {
          "base_uri": "https://localhost:8080/"
        },
        "id": "YbCiiVKKLVHq",
        "outputId": "e82d2342-7d69-4633-b3a5-6b4972c39ccc"
      },
      "execution_count": null,
      "outputs": [
        {
          "output_type": "stream",
          "name": "stdout",
          "text": [
            "              precision    recall  f1-score   support\n",
            "\n",
            "           0       0.69      0.85      0.76        13\n",
            "           1       0.67      0.44      0.53         9\n",
            "\n",
            "    accuracy                           0.68        22\n",
            "   macro avg       0.68      0.65      0.65        22\n",
            "weighted avg       0.68      0.68      0.67        22\n",
            "\n"
          ]
        }
      ]
    },
    {
      "cell_type": "markdown",
      "source": [
        "## Logistic Regression"
      ],
      "metadata": {
        "id": "9S6a-QqeVHyj"
      }
    },
    {
      "cell_type": "code",
      "source": [
        "Classifier = LogisticRegression()\n",
        "Classifier.fit(X_train, y_train)\n",
        "y_pred = Classifier.predict(X_test)\n",
        "\n",
        "acc=accuracy_score(y_test, y_pred)\n",
        "print(acc)"
      ],
      "metadata": {
        "id": "FvRmZiAcVLcb",
        "colab": {
          "base_uri": "https://localhost:8080/"
        },
        "outputId": "cc0744d1-9fcc-4c35-f775-3276d9acbc89"
      },
      "execution_count": null,
      "outputs": [
        {
          "output_type": "stream",
          "name": "stdout",
          "text": [
            "0.6818181818181818\n"
          ]
        }
      ]
    },
    {
      "cell_type": "code",
      "source": [
        "cross_val_score(Classifier, X_test, y_test, cv=10).mean()"
      ],
      "metadata": {
        "colab": {
          "base_uri": "https://localhost:8080/"
        },
        "id": "bNJKbKHtLSQY",
        "outputId": "4cadb145-aa62-4314-87da-124774a56ba8"
      },
      "execution_count": null,
      "outputs": [
        {
          "output_type": "execute_result",
          "data": {
            "text/plain": [
              "0.6333333333333333"
            ]
          },
          "metadata": {},
          "execution_count": 86
        }
      ]
    },
    {
      "cell_type": "code",
      "source": [
        "print(classification_report(y_test,y_pred))"
      ],
      "metadata": {
        "colab": {
          "base_uri": "https://localhost:8080/"
        },
        "id": "AvUlxWFwLV0J",
        "outputId": "4bf4569b-5f4d-4e03-aafd-41a58fcc9780"
      },
      "execution_count": null,
      "outputs": [
        {
          "output_type": "stream",
          "name": "stdout",
          "text": [
            "              precision    recall  f1-score   support\n",
            "\n",
            "           0       0.67      0.92      0.77        13\n",
            "           1       0.75      0.33      0.46         9\n",
            "\n",
            "    accuracy                           0.68        22\n",
            "   macro avg       0.71      0.63      0.62        22\n",
            "weighted avg       0.70      0.68      0.65        22\n",
            "\n"
          ]
        }
      ]
    },
    {
      "cell_type": "markdown",
      "source": [
        "## Decision Tree"
      ],
      "metadata": {
        "id": "TAJHXHSfVLrG"
      }
    },
    {
      "cell_type": "code",
      "source": [
        "Classifier = DecisionTreeClassifier()\n",
        "Classifier.fit(X_train, y_train)\n",
        "y_pred = Classifier.predict(X_test)\n",
        "\n",
        "acc=accuracy_score(y_test, y_pred)\n",
        "print(acc)"
      ],
      "metadata": {
        "id": "EQyN7IHsVPeQ",
        "colab": {
          "base_uri": "https://localhost:8080/"
        },
        "outputId": "9b55cad6-1414-419d-dd7a-e29b9d10063e"
      },
      "execution_count": null,
      "outputs": [
        {
          "output_type": "stream",
          "name": "stdout",
          "text": [
            "0.7272727272727273\n"
          ]
        }
      ]
    },
    {
      "cell_type": "code",
      "source": [
        "cross_val_score(Classifier, X_test, y_test, cv=10).mean()"
      ],
      "metadata": {
        "colab": {
          "base_uri": "https://localhost:8080/"
        },
        "id": "D3_P6lzcLS0G",
        "outputId": "b7ea0d37-ab2b-443e-bdc0-9b979be62cfc"
      },
      "execution_count": null,
      "outputs": [
        {
          "output_type": "execute_result",
          "data": {
            "text/plain": [
              "0.5166666666666666"
            ]
          },
          "metadata": {},
          "execution_count": 90
        }
      ]
    },
    {
      "cell_type": "code",
      "source": [
        "print(classification_report(y_test,y_pred))"
      ],
      "metadata": {
        "id": "-fT9UBOtQZm9",
        "outputId": "55c557e5-9aa7-4ea4-b5ce-d8b6b5dca14b",
        "colab": {
          "base_uri": "https://localhost:8080/"
        }
      },
      "execution_count": null,
      "outputs": [
        {
          "output_type": "stream",
          "name": "stdout",
          "text": [
            "              precision    recall  f1-score   support\n",
            "\n",
            "           0       0.82      0.69      0.75        13\n",
            "           1       0.64      0.78      0.70         9\n",
            "\n",
            "    accuracy                           0.73        22\n",
            "   macro avg       0.73      0.74      0.73        22\n",
            "weighted avg       0.74      0.73      0.73        22\n",
            "\n"
          ]
        }
      ]
    },
    {
      "cell_type": "markdown",
      "source": [
        "# Clustering"
      ],
      "metadata": {
        "id": "abII3hZo_boW"
      }
    },
    {
      "cell_type": "markdown",
      "source": [
        "**Pertanyaan** :\n",
        "\n",
        "*   Lakukan proses clustering menggunakan algoritma KMeans berdasarkan kolom \"Aktual Produksi\", \"Aktual Luas Tanam\", dan \"Aktual Curah Hujan\"\n",
        "*   Lakukan eksperimen hingga menghasilkan clustering yang menurut kalian ideal\n",
        "*   Pada baris terakhir, gunakan cell teks untuk memberikan analisis terhadap hasil clustering yang sudah kalian lakukan\n",
        "\n"
      ],
      "metadata": {
        "id": "1hHWydDB_eZ3"
      }
    },
    {
      "cell_type": "code",
      "source": [
        "df_c = df[['Aktual Produksi', 'Aktual Luas Tanam', 'Aktual Curah Hujan']]"
      ],
      "metadata": {
        "id": "W0E4f6sTG0fM"
      },
      "execution_count": null,
      "outputs": []
    },
    {
      "cell_type": "code",
      "source": [
        "df_c"
      ],
      "metadata": {
        "id": "AU8469nEHaXs"
      },
      "execution_count": null,
      "outputs": []
    },
    {
      "cell_type": "code",
      "source": [
        "#Elbow Method\n",
        "kmeans = KMeans(random_state = 0)\n",
        "y_kmeans = kmeans.fit_predict(df_c)\n",
        "model = KElbowVisualizer(kmeans, k = (1, 11))\n",
        "model.fit(df_c)\n",
        "model.show();"
      ],
      "metadata": {
        "id": "ECEJbQ9LAhSB",
        "colab": {
          "base_uri": "https://localhost:8080/",
          "height": 524
        },
        "outputId": "303833ba-d913-4cad-a868-e27e92bb7e31"
      },
      "execution_count": null,
      "outputs": [
        {
          "output_type": "display_data",
          "data": {
            "text/plain": [
              "<Figure size 800x550 with 2 Axes>"
            ],
            "image/png": "[encoded data removed]"
          },
          "metadata": {}
        }
      ]
    },
    {
      "cell_type": "markdown",
      "source": [
        "\n",
        "\n",
        "```\n",
        "# Contoh cara visualisasi hasil clustering\n",
        "X['Labels'] = km3.labels_\n",
        "plt.figure(figsize=(12, 8))\n",
        "sns.scatterplot(data = X, x= 'Income', y= 'Score', hue=X['Labels'],\n",
        "                palette=sns.color_palette('hls', 3))\n",
        "plt.title('KMeans with 3 Clusters')\n",
        "plt.show()\n",
        "```\n",
        "\n"
      ],
      "metadata": {
        "id": "nzsp2xAiBGbc"
      }
    },
    {
      "cell_type": "code",
      "source": [
        "kmm =KMeans(n_clusters=3)\n",
        "kmm.fit(df_c)\n",
        "\n",
        "plt.figure(figsize=(12, 8))\n",
        "sns.scatterplot(data = df_c, x= 'Aktual Produksi', y= 'Aktual Luas Tanam', hue=kmm.labels_,\n",
        "                palette=sns.color_palette('hls', 3))\n",
        "plt.title('KMeans with 3 Clusters')\n",
        "plt.show()"
      ],
      "metadata": {
        "id": "55Zq5CS-BAXs",
        "colab": {
          "base_uri": "https://localhost:8080/",
          "height": 602
        },
        "outputId": "e0a027f8-f955-4202-9322-3cf9e7e97a02"
      },
      "execution_count": null,
      "outputs": [
        {
          "output_type": "display_data",
          "data": {
            "text/plain": [
              "<Figure size 1200x800 with 1 Axes>"
            ],
            "image/png": "[encoded data removed]"
          },
          "metadata": {}
        }
      ]
    },
    {
      "cell_type": "markdown",
      "source": [
        "**Analisis Hasil** : \"Ini adalah contoh analisis terhadap hasil clustering yang didapatkan. Saya membaginya ke dalam 3 cluster berdasarkan angka dari aktual produksinya. Dalam cluster 0, mengelompokkan data yang nilai aktual produksinya kurang dari 0. Dapat dilihat di dalam data nilai aktual luas tanamnyamasih sangat menyebar. Di cluster 1 memiliki nilai aktual produksi kurang lebih dari 1-2 dan cluster 3 memiliki nilai aktual produksi di 2 ke atas.\n",
        "\""
      ],
      "metadata": {
        "id": "G1YaQfTvAhAr"
      }
    },
    {
      "cell_type": "markdown",
      "source": [
        "\n",
        "\n",
        "--------------\n",
        "\n"
      ],
      "metadata": {
        "id": "zTJ5qDHwXH5i"
      }
    },
    {
      "cell_type": "markdown",
      "source": [
        "# Selesai 🐈"
      ],
      "metadata": {
        "id": "6h3IjT3GXQb2"
      }
    }
  ]
}