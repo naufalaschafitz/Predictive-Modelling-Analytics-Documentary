{
  "nbformat": 4,
  "nbformat_minor": 0,
  "metadata": {
    "colab": {
      "provenance": []
    },
    "kernelspec": {
      "name": "python3",
      "display_name": "Python 3"
    },
    "language_info": {
      "name": "python"
    }
  },
  "cells": [
    {
      "cell_type": "markdown",
      "source": [
        "\n",
        "\n",
        "*   **!! Copy file colab ini ke drive masing-masing !!**\n",
        "*   Jawab soal secara berurutan, pastikan cell kode dan output untuk setiap soal tepat berada dibawah bagian soal tersebut\n",
        "*   Kerjakan dengan maksimal, manfaatkan tugas ini untuk latihan\n",
        "*   Silakan menambahkan library lain kalau memang diperlukan\n",
        "\n",
        "\n",
        "---\n",
        "\n",
        "* Jika sudah selesai, share colab masing-masing dan atur menjadi \"anyone with the link\" sebagai \"viewer\".  Lalu paste link colab masing-masing pada [Form](https://forms.gle/dcYVXy9iAzjZQhfx5) yang sudah disediakan\n",
        "\n",
        "* Jika ada pertanyaan, silakan tanyakan di [Sheet QNA](https://intip.in/QnaPma).  Pastikan pertanyaan yang akan kalian ajukan belum pernah ditanya sebelumnya\n",
        "\n",
        "\n",
        "\n",
        "\n"
      ],
      "metadata": {
        "id": "Aox9_AVH9fe4"
      }
    },
    {
      "cell_type": "markdown",
      "source": [
        "# Libraries"
      ],
      "metadata": {
        "id": "QvSdk6dP_Zs9"
      }
    },
    {
      "cell_type": "code",
      "execution_count": null,
      "metadata": {
        "id": "PvbKV4l89ZE9"
      },
      "outputs": [],
      "source": [
        "import pandas as pd\n",
        "import numpy as np\n",
        "import matplotlib.pyplot as plt\n",
        "from matplotlib import ticker\n",
        "import warnings\n",
        "warnings.filterwarnings('ignore')\n",
        "import seaborn as sns\n",
        "import sklearn\n",
        "from sklearn import datasets, preprocessing\n",
        "from sklearn.model_selection import train_test_split\n",
        "from sklearn.naive_bayes import GaussianNB\n",
        "from sklearn.preprocessing import StandardScaler\n",
        "from sklearn.metrics import accuracy_score\n",
        "from sklearn.metrics import classification_report\n",
        "from sklearn.neighbors import KNeighborsClassifier\n",
        "from sklearn.model_selection import cross_val_score\n",
        "from sklearn.svm import SVC\n",
        "from sklearn.linear_model import LogisticRegression\n",
        "from sklearn.tree import DecisionTreeClassifier\n",
        "from sklearn.preprocessing import LabelEncoder\n"
      ]
    },
    {
      "cell_type": "markdown",
      "source": [
        "# Import Dataset"
      ],
      "metadata": {
        "id": "0FHm-KQ7_u93"
      }
    },
    {
      "cell_type": "markdown",
      "source": [
        "\n",
        "*   gunakan link ini untuk mengimport dataset : https://raw.githubusercontent.com/bayuazra23/datasets/main/penguins.csv\n",
        "*   Simpan dataset dalam variabel bernama \"df\"\n",
        "*   Variabel terikat untuk dataset ini adalah species dari pinguin, dengan kolom lain sebagai variable bebas\n",
        "\n",
        "\n"
      ],
      "metadata": {
        "id": "4oAJmgEcAisr"
      }
    },
    {
      "cell_type": "code",
      "source": [
        "url = 'https://raw.githubusercontent.com/bayuazra23/datasets/main/penguins.csv'"
      ],
      "metadata": {
        "id": "j5CjCk6M_zm7"
      },
      "execution_count": null,
      "outputs": []
    },
    {
      "cell_type": "code",
      "source": [
        "df = pd.read_csv(url)"
      ],
      "metadata": {
        "id": "z5xnvVOzTffH"
      },
      "execution_count": null,
      "outputs": []
    },
    {
      "cell_type": "code",
      "source": [
        "df"
      ],
      "metadata": {
        "colab": {
          "base_uri": "https://localhost:8080/",
          "height": 423
        },
        "id": "i00bonHkTqOW",
        "outputId": "93d5df60-89e9-4b52-b6f1-ff7bcac81055"
      },
      "execution_count": null,
      "outputs": [
        {
          "output_type": "execute_result",
          "data": {
            "text/plain": [
              "       species     island  bill_length_mm  bill_depth_mm  flipper_length_mm  \\\n",
              "0       Adelie  Torgersen            39.1           18.7              181.0   \n",
              "1       Adelie  Torgersen            39.5           17.4              186.0   \n",
              "2       Adelie  Torgersen            40.3           18.0              195.0   \n",
              "3       Adelie  Torgersen             NaN            NaN                NaN   \n",
              "4       Adelie  Torgersen            36.7           19.3              193.0   \n",
              "..         ...        ...             ...            ...                ...   \n",
              "339  Chinstrap      Dream            55.8           19.8              207.0   \n",
              "340  Chinstrap      Dream            43.5           18.1              202.0   \n",
              "341  Chinstrap      Dream            49.6           18.2              193.0   \n",
              "342  Chinstrap      Dream            50.8           19.0              210.0   \n",
              "343  Chinstrap      Dream            50.2           18.7              198.0   \n",
              "\n",
              "     body_mass_g     sex  \n",
              "0         3750.0    male  \n",
              "1         3800.0  female  \n",
              "2         3250.0  female  \n",
              "3            NaN     NaN  \n",
              "4         3450.0  female  \n",
              "..           ...     ...  \n",
              "339       4000.0    male  \n",
              "340       3400.0  female  \n",
              "341       3775.0    male  \n",
              "342       4100.0    male  \n",
              "343       3775.0  female  \n",
              "\n",
              "[344 rows x 7 columns]"
            ],
            "text/html": [
              "\n",
              "  <div id=\"df-aacd8469-c684-40f3-a624-044e6f3f0094\" class=\"colab-df-container\">\n",
              "    <div>\n",
              "<style scoped>\n",
              "    .dataframe tbody tr th:only-of-type {\n",
              "        vertical-align: middle;\n",
              "    }\n",
              "\n",
              "    .dataframe tbody tr th {\n",
              "        vertical-align: top;\n",
              "    }\n",
              "\n",
              "    .dataframe thead th {\n",
              "        text-align: right;\n",
              "    }\n",
              "</style>\n",
              "<table border=\"1\" class=\"dataframe\">\n",
              "  <thead>\n",
              "    <tr style=\"text-align: right;\">\n",
              "      <th></th>\n",
              "      <th>species</th>\n",
              "      <th>island</th>\n",
              "      <th>bill_length_mm</th>\n",
              "      <th>bill_depth_mm</th>\n",
              "      <th>flipper_length_mm</th>\n",
              "      <th>body_mass_g</th>\n",
              "      <th>sex</th>\n",
              "    </tr>\n",
              "  </thead>\n",
              "  <tbody>\n",
              "    <tr>\n",
              "      <th>0</th>\n",
              "      <td>Adelie</td>\n",
              "      <td>Torgersen</td>\n",
              "      <td>39.1</td>\n",
              "      <td>18.7</td>\n",
              "      <td>181.0</td>\n",
              "      <td>3750.0</td>\n",
              "      <td>male</td>\n",
              "    </tr>\n",
              "    <tr>\n",
              "      <th>1</th>\n",
              "      <td>Adelie</td>\n",
              "      <td>Torgersen</td>\n",
              "      <td>39.5</td>\n",
              "      <td>17.4</td>\n",
              "      <td>186.0</td>\n",
              "      <td>3800.0</td>\n",
              "      <td>female</td>\n",
              "    </tr>\n",
              "    <tr>\n",
              "      <th>2</th>\n",
              "      <td>Adelie</td>\n",
              "      <td>Torgersen</td>\n",
              "      <td>40.3</td>\n",
              "      <td>18.0</td>\n",
              "      <td>195.0</td>\n",
              "      <td>3250.0</td>\n",
              "      <td>female</td>\n",
              "    </tr>\n",
              "    <tr>\n",
              "      <th>3</th>\n",
              "      <td>Adelie</td>\n",
              "      <td>Torgersen</td>\n",
              "      <td>NaN</td>\n",
              "      <td>NaN</td>\n",
              "      <td>NaN</td>\n",
              "      <td>NaN</td>\n",
              "      <td>NaN</td>\n",
              "    </tr>\n",
              "    <tr>\n",
              "      <th>4</th>\n",
              "      <td>Adelie</td>\n",
              "      <td>Torgersen</td>\n",
              "      <td>36.7</td>\n",
              "      <td>19.3</td>\n",
              "      <td>193.0</td>\n",
              "      <td>3450.0</td>\n",
              "      <td>female</td>\n",
              "    </tr>\n",
              "    <tr>\n",
              "      <th>...</th>\n",
              "      <td>...</td>\n",
              "      <td>...</td>\n",
              "      <td>...</td>\n",
              "      <td>...</td>\n",
              "      <td>...</td>\n",
              "      <td>...</td>\n",
              "      <td>...</td>\n",
              "    </tr>\n",
              "    <tr>\n",
              "      <th>339</th>\n",
              "      <td>Chinstrap</td>\n",
              "      <td>Dream</td>\n",
              "      <td>55.8</td>\n",
              "      <td>19.8</td>\n",
              "      <td>207.0</td>\n",
              "      <td>4000.0</td>\n",
              "      <td>male</td>\n",
              "    </tr>\n",
              "    <tr>\n",
              "      <th>340</th>\n",
              "      <td>Chinstrap</td>\n",
              "      <td>Dream</td>\n",
              "      <td>43.5</td>\n",
              "      <td>18.1</td>\n",
              "      <td>202.0</td>\n",
              "      <td>3400.0</td>\n",
              "      <td>female</td>\n",
              "    </tr>\n",
              "    <tr>\n",
              "      <th>341</th>\n",
              "      <td>Chinstrap</td>\n",
              "      <td>Dream</td>\n",
              "      <td>49.6</td>\n",
              "      <td>18.2</td>\n",
              "      <td>193.0</td>\n",
              "      <td>3775.0</td>\n",
              "      <td>male</td>\n",
              "    </tr>\n",
              "    <tr>\n",
              "      <th>342</th>\n",
              "      <td>Chinstrap</td>\n",
              "      <td>Dream</td>\n",
              "      <td>50.8</td>\n",
              "      <td>19.0</td>\n",
              "      <td>210.0</td>\n",
              "      <td>4100.0</td>\n",
              "      <td>male</td>\n",
              "    </tr>\n",
              "    <tr>\n",
              "      <th>343</th>\n",
              "      <td>Chinstrap</td>\n",
              "      <td>Dream</td>\n",
              "      <td>50.2</td>\n",
              "      <td>18.7</td>\n",
              "      <td>198.0</td>\n",
              "      <td>3775.0</td>\n",
              "      <td>female</td>\n",
              "    </tr>\n",
              "  </tbody>\n",
              "</table>\n",
              "<p>344 rows × 7 columns</p>\n",
              "</div>\n",
              "    <div class=\"colab-df-buttons\">\n",
              "\n",
              "  <div class=\"colab-df-container\">\n",
              "    <button class=\"colab-df-convert\" onclick=\"convertToInteractive('df-aacd8469-c684-40f3-a624-044e6f3f0094')\"\n",
              "            title=\"Convert this dataframe to an interactive table.\"\n",
              "            style=\"display:none;\">\n",
              "\n",
              "  <svg xmlns=\"http://www.w3.org/2000/svg\" height=\"24px\" viewBox=\"0 -960 960 960\">\n",
              "    <path d=\"M120-120v-720h720v720H120Zm60-500h600v-160H180v160Zm220 220h160v-160H400v160Zm0 220h160v-160H400v160ZM180-400h160v-160H180v160Zm440 0h160v-160H620v160ZM180-180h160v-160H180v160Zm440 0h160v-160H620v160Z\"/>\n",
              "  </svg>\n",
              "    </button>\n",
              "\n",
              "  <style>\n",
              "    .colab-df-container {\n",
              "      display:flex;\n",
              "      gap: 12px;\n",
              "    }\n",
              "\n",
              "    .colab-df-convert {\n",
              "      background-color: #E8F0FE;\n",
              "      border: none;\n",
              "      border-radius: 50%;\n",
              "      cursor: pointer;\n",
              "      display: none;\n",
              "      fill: #1967D2;\n",
              "      height: 32px;\n",
              "      padding: 0 0 0 0;\n",
              "      width: 32px;\n",
              "    }\n",
              "\n",
              "    .colab-df-convert:hover {\n",
              "      background-color: #E2EBFA;\n",
              "      box-shadow: 0px 1px 2px rgba(60, 64, 67, 0.3), 0px 1px 3px 1px rgba(60, 64, 67, 0.15);\n",
              "      fill: #174EA6;\n",
              "    }\n",
              "\n",
              "    .colab-df-buttons div {\n",
              "      margin-bottom: 4px;\n",
              "    }\n",
              "\n",
              "    [theme=dark] .colab-df-convert {\n",
              "      background-color: #3B4455;\n",
              "      fill: #D2E3FC;\n",
              "    }\n",
              "\n",
              "    [theme=dark] .colab-df-convert:hover {\n",
              "      background-color: #434B5C;\n",
              "      box-shadow: 0px 1px 3px 1px rgba(0, 0, 0, 0.15);\n",
              "      filter: drop-shadow(0px 1px 2px rgba(0, 0, 0, 0.3));\n",
              "      fill: #FFFFFF;\n",
              "    }\n",
              "  </style>\n",
              "\n",
              "    <script>\n",
              "      const buttonEl =\n",
              "        document.querySelector('#df-aacd8469-c684-40f3-a624-044e6f3f0094 button.colab-df-convert');\n",
              "      buttonEl.style.display =\n",
              "        google.colab.kernel.accessAllowed ? 'block' : 'none';\n",
              "\n",
              "      async function convertToInteractive(key) {\n",
              "        const element = document.querySelector('#df-aacd8469-c684-40f3-a624-044e6f3f0094');\n",
              "        const dataTable =\n",
              "          await google.colab.kernel.invokeFunction('convertToInteractive',\n",
              "                                                    [key], {});\n",
              "        if (!dataTable) return;\n",
              "\n",
              "        const docLinkHtml = 'Like what you see? Visit the ' +\n",
              "          '<a target=\"_blank\" href=https://colab.research.google.com/notebooks/data_table.ipynb>data table notebook</a>'\n",
              "          + ' to learn more about interactive tables.';\n",
              "        element.innerHTML = '';\n",
              "        dataTable['output_type'] = 'display_data';\n",
              "        await google.colab.output.renderOutput(dataTable, element);\n",
              "        const docLink = document.createElement('div');\n",
              "        docLink.innerHTML = docLinkHtml;\n",
              "        element.appendChild(docLink);\n",
              "      }\n",
              "    </script>\n",
              "  </div>\n",
              "\n",
              "\n",
              "<div id=\"df-446fb776-978b-4e09-9d34-c61274e9da1c\">\n",
              "  <button class=\"colab-df-quickchart\" onclick=\"quickchart('df-446fb776-978b-4e09-9d34-c61274e9da1c')\"\n",
              "            title=\"Suggest charts.\"\n",
              "            style=\"display:none;\">\n",
              "\n",
              "<svg xmlns=\"http://www.w3.org/2000/svg\" height=\"24px\"viewBox=\"0 0 24 24\"\n",
              "     width=\"24px\">\n",
              "    <g>\n",
              "        <path d=\"M19 3H5c-1.1 0-2 .9-2 2v14c0 1.1.9 2 2 2h14c1.1 0 2-.9 2-2V5c0-1.1-.9-2-2-2zM9 17H7v-7h2v7zm4 0h-2V7h2v10zm4 0h-2v-4h2v4z\"/>\n",
              "    </g>\n",
              "</svg>\n",
              "  </button>\n",
              "\n",
              "<style>\n",
              "  .colab-df-quickchart {\n",
              "      --bg-color: #E8F0FE;\n",
              "      --fill-color: #1967D2;\n",
              "      --hover-bg-color: #E2EBFA;\n",
              "      --hover-fill-color: #174EA6;\n",
              "      --disabled-fill-color: #AAA;\n",
              "      --disabled-bg-color: #DDD;\n",
              "  }\n",
              "\n",
              "  [theme=dark] .colab-df-quickchart {\n",
              "      --bg-color: #3B4455;\n",
              "      --fill-color: #D2E3FC;\n",
              "      --hover-bg-color: #434B5C;\n",
              "      --hover-fill-color: #FFFFFF;\n",
              "      --disabled-bg-color: #3B4455;\n",
              "      --disabled-fill-color: #666;\n",
              "  }\n",
              "\n",
              "  .colab-df-quickchart {\n",
              "    background-color: var(--bg-color);\n",
              "    border: none;\n",
              "    border-radius: 50%;\n",
              "    cursor: pointer;\n",
              "    display: none;\n",
              "    fill: var(--fill-color);\n",
              "    height: 32px;\n",
              "    padding: 0;\n",
              "    width: 32px;\n",
              "  }\n",
              "\n",
              "  .colab-df-quickchart:hover {\n",
              "    background-color: var(--hover-bg-color);\n",
              "    box-shadow: 0 1px 2px rgba(60, 64, 67, 0.3), 0 1px 3px 1px rgba(60, 64, 67, 0.15);\n",
              "    fill: var(--button-hover-fill-color);\n",
              "  }\n",
              "\n",
              "  .colab-df-quickchart-complete:disabled,\n",
              "  .colab-df-quickchart-complete:disabled:hover {\n",
              "    background-color: var(--disabled-bg-color);\n",
              "    fill: var(--disabled-fill-color);\n",
              "    box-shadow: none;\n",
              "  }\n",
              "\n",
              "  .colab-df-spinner {\n",
              "    border: 2px solid var(--fill-color);\n",
              "    border-color: transparent;\n",
              "    border-bottom-color: var(--fill-color);\n",
              "    animation:\n",
              "      spin 1s steps(1) infinite;\n",
              "  }\n",
              "\n",
              "  @keyframes spin {\n",
              "    0% {\n",
              "      border-color: transparent;\n",
              "      border-bottom-color: var(--fill-color);\n",
              "      border-left-color: var(--fill-color);\n",
              "    }\n",
              "    20% {\n",
              "      border-color: transparent;\n",
              "      border-left-color: var(--fill-color);\n",
              "      border-top-color: var(--fill-color);\n",
              "    }\n",
              "    30% {\n",
              "      border-color: transparent;\n",
              "      border-left-color: var(--fill-color);\n",
              "      border-top-color: var(--fill-color);\n",
              "      border-right-color: var(--fill-color);\n",
              "    }\n",
              "    40% {\n",
              "      border-color: transparent;\n",
              "      border-right-color: var(--fill-color);\n",
              "      border-top-color: var(--fill-color);\n",
              "    }\n",
              "    60% {\n",
              "      border-color: transparent;\n",
              "      border-right-color: var(--fill-color);\n",
              "    }\n",
              "    80% {\n",
              "      border-color: transparent;\n",
              "      border-right-color: var(--fill-color);\n",
              "      border-bottom-color: var(--fill-color);\n",
              "    }\n",
              "    90% {\n",
              "      border-color: transparent;\n",
              "      border-bottom-color: var(--fill-color);\n",
              "    }\n",
              "  }\n",
              "</style>\n",
              "\n",
              "  <script>\n",
              "    async function quickchart(key) {\n",
              "      const quickchartButtonEl =\n",
              "        document.querySelector('#' + key + ' button');\n",
              "      quickchartButtonEl.disabled = true;  // To prevent multiple clicks.\n",
              "      quickchartButtonEl.classList.add('colab-df-spinner');\n",
              "      try {\n",
              "        const charts = await google.colab.kernel.invokeFunction(\n",
              "            'suggestCharts', [key], {});\n",
              "      } catch (error) {\n",
              "        console.error('Error during call to suggestCharts:', error);\n",
              "      }\n",
              "      quickchartButtonEl.classList.remove('colab-df-spinner');\n",
              "      quickchartButtonEl.classList.add('colab-df-quickchart-complete');\n",
              "    }\n",
              "    (() => {\n",
              "      let quickchartButtonEl =\n",
              "        document.querySelector('#df-446fb776-978b-4e09-9d34-c61274e9da1c button');\n",
              "      quickchartButtonEl.style.display =\n",
              "        google.colab.kernel.accessAllowed ? 'block' : 'none';\n",
              "    })();\n",
              "  </script>\n",
              "</div>\n",
              "    </div>\n",
              "  </div>\n"
            ]
          },
          "metadata": {},
          "execution_count": 7
        }
      ]
    },
    {
      "cell_type": "markdown",
      "source": [
        "## Label encoder untuk kolom kategorikal (run, sesuaikan kalau ada error saja)"
      ],
      "metadata": {
        "id": "tc57oFyNEcmg"
      }
    },
    {
      "cell_type": "code",
      "source": [
        "for col in df[['sex','island']]:\n",
        "  df[col] = LabelEncoder().fit_transform(df[col])"
      ],
      "metadata": {
        "id": "9GZep7TsEgxp"
      },
      "execution_count": null,
      "outputs": []
    },
    {
      "cell_type": "code",
      "source": [
        "df"
      ],
      "metadata": {
        "id": "e6fhy0_m0aA3"
      },
      "execution_count": null,
      "outputs": []
    },
    {
      "cell_type": "markdown",
      "source": [
        "# EDA"
      ],
      "metadata": {
        "id": "kYOLiFBj_z6p"
      }
    },
    {
      "cell_type": "markdown",
      "source": [
        "**General Rule** : Silahkan tambah business question lain yang bisa kalian formulasikan"
      ],
      "metadata": {
        "id": "dN0RjBk-VsmF"
      }
    },
    {
      "cell_type": "markdown",
      "source": [
        "## Tunjukan 5 data random dari dataset"
      ],
      "metadata": {
        "id": "seKVABYA_6Kz"
      }
    },
    {
      "cell_type": "code",
      "source": [
        "pinguin.sample(5)"
      ],
      "metadata": {
        "id": "cDWvfV-C_2PK"
      },
      "execution_count": null,
      "outputs": []
    },
    {
      "cell_type": "markdown",
      "source": [
        "## Tampilkan info, rangkuman analisis statistik (mean, std, dsb), serta jumlah nilai null untuk masing-masing kolom pada dataset"
      ],
      "metadata": {
        "id": "WDxAhE7aCbHc"
      }
    },
    {
      "cell_type": "code",
      "source": [
        "#menampilkan info\n",
        "pinguin.info()"
      ],
      "metadata": {
        "id": "pu_hrSN-DZ0d",
        "colab": {
          "base_uri": "https://localhost:8080/"
        },
        "outputId": "ed378d46-2b59-4658-9869-e139adbe3c7d"
      },
      "execution_count": null,
      "outputs": [
        {
          "output_type": "stream",
          "name": "stdout",
          "text": [
            "<class 'pandas.core.frame.DataFrame'>\n",
            "RangeIndex: 344 entries, 0 to 343\n",
            "Data columns (total 7 columns):\n",
            " #   Column             Non-Null Count  Dtype  \n",
            "---  ------             --------------  -----  \n",
            " 0   species            344 non-null    object \n",
            " 1   island             344 non-null    object \n",
            " 2   bill_length_mm     342 non-null    float64\n",
            " 3   bill_depth_mm      342 non-null    float64\n",
            " 4   flipper_length_mm  342 non-null    float64\n",
            " 5   body_mass_g        342 non-null    float64\n",
            " 6   sex                333 non-null    object \n",
            "dtypes: float64(4), object(3)\n",
            "memory usage: 18.9+ KB\n"
          ]
        }
      ]
    },
    {
      "cell_type": "code",
      "source": [
        "#menampilkan rangkuman analisis statistik\n",
        "pinguin.describe()"
      ],
      "metadata": {
        "colab": {
          "base_uri": "https://localhost:8080/",
          "height": 300
        },
        "id": "TEvn6YCiUgmB",
        "outputId": "c28ac72d-2899-434d-dafc-4b46d7a576d2"
      },
      "execution_count": null,
      "outputs": [
        {
          "output_type": "execute_result",
          "data": {
            "text/plain": [
              "       bill_length_mm  bill_depth_mm  flipper_length_mm  body_mass_g\n",
              "count      342.000000     342.000000         342.000000   342.000000\n",
              "mean        43.921930      17.151170         200.915205  4201.754386\n",
              "std          5.459584       1.974793          14.061714   801.954536\n",
              "min         32.100000      13.100000         172.000000  2700.000000\n",
              "25%         39.225000      15.600000         190.000000  3550.000000\n",
              "50%         44.450000      17.300000         197.000000  4050.000000\n",
              "75%         48.500000      18.700000         213.000000  4750.000000\n",
              "max         59.600000      21.500000         231.000000  6300.000000"
            ],
            "text/html": [
              "\n",
              "  <div id=\"df-7ff19730-3b49-4b8d-9d3d-a892e05c767a\" class=\"colab-df-container\">\n",
              "    <div>\n",
              "<style scoped>\n",
              "    .dataframe tbody tr th:only-of-type {\n",
              "        vertical-align: middle;\n",
              "    }\n",
              "\n",
              "    .dataframe tbody tr th {\n",
              "        vertical-align: top;\n",
              "    }\n",
              "\n",
              "    .dataframe thead th {\n",
              "        text-align: right;\n",
              "    }\n",
              "</style>\n",
              "<table border=\"1\" class=\"dataframe\">\n",
              "  <thead>\n",
              "    <tr style=\"text-align: right;\">\n",
              "      <th></th>\n",
              "      <th>bill_length_mm</th>\n",
              "      <th>bill_depth_mm</th>\n",
              "      <th>flipper_length_mm</th>\n",
              "      <th>body_mass_g</th>\n",
              "    </tr>\n",
              "  </thead>\n",
              "  <tbody>\n",
              "    <tr>\n",
              "      <th>count</th>\n",
              "      <td>342.000000</td>\n",
              "      <td>342.000000</td>\n",
              "      <td>342.000000</td>\n",
              "      <td>342.000000</td>\n",
              "    </tr>\n",
              "    <tr>\n",
              "      <th>mean</th>\n",
              "      <td>43.921930</td>\n",
              "      <td>17.151170</td>\n",
              "      <td>200.915205</td>\n",
              "      <td>4201.754386</td>\n",
              "    </tr>\n",
              "    <tr>\n",
              "      <th>std</th>\n",
              "      <td>5.459584</td>\n",
              "      <td>1.974793</td>\n",
              "      <td>14.061714</td>\n",
              "      <td>801.954536</td>\n",
              "    </tr>\n",
              "    <tr>\n",
              "      <th>min</th>\n",
              "      <td>32.100000</td>\n",
              "      <td>13.100000</td>\n",
              "      <td>172.000000</td>\n",
              "      <td>2700.000000</td>\n",
              "    </tr>\n",
              "    <tr>\n",
              "      <th>25%</th>\n",
              "      <td>39.225000</td>\n",
              "      <td>15.600000</td>\n",
              "      <td>190.000000</td>\n",
              "      <td>3550.000000</td>\n",
              "    </tr>\n",
              "    <tr>\n",
              "      <th>50%</th>\n",
              "      <td>44.450000</td>\n",
              "      <td>17.300000</td>\n",
              "      <td>197.000000</td>\n",
              "      <td>4050.000000</td>\n",
              "    </tr>\n",
              "    <tr>\n",
              "      <th>75%</th>\n",
              "      <td>48.500000</td>\n",
              "      <td>18.700000</td>\n",
              "      <td>213.000000</td>\n",
              "      <td>4750.000000</td>\n",
              "    </tr>\n",
              "    <tr>\n",
              "      <th>max</th>\n",
              "      <td>59.600000</td>\n",
              "      <td>21.500000</td>\n",
              "      <td>231.000000</td>\n",
              "      <td>6300.000000</td>\n",
              "    </tr>\n",
              "  </tbody>\n",
              "</table>\n",
              "</div>\n",
              "    <div class=\"colab-df-buttons\">\n",
              "\n",
              "  <div class=\"colab-df-container\">\n",
              "    <button class=\"colab-df-convert\" onclick=\"convertToInteractive('df-7ff19730-3b49-4b8d-9d3d-a892e05c767a')\"\n",
              "            title=\"Convert this dataframe to an interactive table.\"\n",
              "            style=\"display:none;\">\n",
              "\n",
              "  <svg xmlns=\"http://www.w3.org/2000/svg\" height=\"24px\" viewBox=\"0 -960 960 960\">\n",
              "    <path d=\"M120-120v-720h720v720H120Zm60-500h600v-160H180v160Zm220 220h160v-160H400v160Zm0 220h160v-160H400v160ZM180-400h160v-160H180v160Zm440 0h160v-160H620v160ZM180-180h160v-160H180v160Zm440 0h160v-160H620v160Z\"/>\n",
              "  </svg>\n",
              "    </button>\n",
              "\n",
              "  <style>\n",
              "    .colab-df-container {\n",
              "      display:flex;\n",
              "      gap: 12px;\n",
              "    }\n",
              "\n",
              "    .colab-df-convert {\n",
              "      background-color: #E8F0FE;\n",
              "      border: none;\n",
              "      border-radius: 50%;\n",
              "      cursor: pointer;\n",
              "      display: none;\n",
              "      fill: #1967D2;\n",
              "      height: 32px;\n",
              "      padding: 0 0 0 0;\n",
              "      width: 32px;\n",
              "    }\n",
              "\n",
              "    .colab-df-convert:hover {\n",
              "      background-color: #E2EBFA;\n",
              "      box-shadow: 0px 1px 2px rgba(60, 64, 67, 0.3), 0px 1px 3px 1px rgba(60, 64, 67, 0.15);\n",
              "      fill: #174EA6;\n",
              "    }\n",
              "\n",
              "    .colab-df-buttons div {\n",
              "      margin-bottom: 4px;\n",
              "    }\n",
              "\n",
              "    [theme=dark] .colab-df-convert {\n",
              "      background-color: #3B4455;\n",
              "      fill: #D2E3FC;\n",
              "    }\n",
              "\n",
              "    [theme=dark] .colab-df-convert:hover {\n",
              "      background-color: #434B5C;\n",
              "      box-shadow: 0px 1px 3px 1px rgba(0, 0, 0, 0.15);\n",
              "      filter: drop-shadow(0px 1px 2px rgba(0, 0, 0, 0.3));\n",
              "      fill: #FFFFFF;\n",
              "    }\n",
              "  </style>\n",
              "\n",
              "    <script>\n",
              "      const buttonEl =\n",
              "        document.querySelector('#df-7ff19730-3b49-4b8d-9d3d-a892e05c767a button.colab-df-convert');\n",
              "      buttonEl.style.display =\n",
              "        google.colab.kernel.accessAllowed ? 'block' : 'none';\n",
              "\n",
              "      async function convertToInteractive(key) {\n",
              "        const element = document.querySelector('#df-7ff19730-3b49-4b8d-9d3d-a892e05c767a');\n",
              "        const dataTable =\n",
              "          await google.colab.kernel.invokeFunction('convertToInteractive',\n",
              "                                                    [key], {});\n",
              "        if (!dataTable) return;\n",
              "\n",
              "        const docLinkHtml = 'Like what you see? Visit the ' +\n",
              "          '<a target=\"_blank\" href=https://colab.research.google.com/notebooks/data_table.ipynb>data table notebook</a>'\n",
              "          + ' to learn more about interactive tables.';\n",
              "        element.innerHTML = '';\n",
              "        dataTable['output_type'] = 'display_data';\n",
              "        await google.colab.output.renderOutput(dataTable, element);\n",
              "        const docLink = document.createElement('div');\n",
              "        docLink.innerHTML = docLinkHtml;\n",
              "        element.appendChild(docLink);\n",
              "      }\n",
              "    </script>\n",
              "  </div>\n",
              "\n",
              "\n",
              "<div id=\"df-bce1e1c4-8639-47ab-a931-4896c91b43cf\">\n",
              "  <button class=\"colab-df-quickchart\" onclick=\"quickchart('df-bce1e1c4-8639-47ab-a931-4896c91b43cf')\"\n",
              "            title=\"Suggest charts.\"\n",
              "            style=\"display:none;\">\n",
              "\n",
              "<svg xmlns=\"http://www.w3.org/2000/svg\" height=\"24px\"viewBox=\"0 0 24 24\"\n",
              "     width=\"24px\">\n",
              "    <g>\n",
              "        <path d=\"M19 3H5c-1.1 0-2 .9-2 2v14c0 1.1.9 2 2 2h14c1.1 0 2-.9 2-2V5c0-1.1-.9-2-2-2zM9 17H7v-7h2v7zm4 0h-2V7h2v10zm4 0h-2v-4h2v4z\"/>\n",
              "    </g>\n",
              "</svg>\n",
              "  </button>\n",
              "\n",
              "<style>\n",
              "  .colab-df-quickchart {\n",
              "      --bg-color: #E8F0FE;\n",
              "      --fill-color: #1967D2;\n",
              "      --hover-bg-color: #E2EBFA;\n",
              "      --hover-fill-color: #174EA6;\n",
              "      --disabled-fill-color: #AAA;\n",
              "      --disabled-bg-color: #DDD;\n",
              "  }\n",
              "\n",
              "  [theme=dark] .colab-df-quickchart {\n",
              "      --bg-color: #3B4455;\n",
              "      --fill-color: #D2E3FC;\n",
              "      --hover-bg-color: #434B5C;\n",
              "      --hover-fill-color: #FFFFFF;\n",
              "      --disabled-bg-color: #3B4455;\n",
              "      --disabled-fill-color: #666;\n",
              "  }\n",
              "\n",
              "  .colab-df-quickchart {\n",
              "    background-color: var(--bg-color);\n",
              "    border: none;\n",
              "    border-radius: 50%;\n",
              "    cursor: pointer;\n",
              "    display: none;\n",
              "    fill: var(--fill-color);\n",
              "    height: 32px;\n",
              "    padding: 0;\n",
              "    width: 32px;\n",
              "  }\n",
              "\n",
              "  .colab-df-quickchart:hover {\n",
              "    background-color: var(--hover-bg-color);\n",
              "    box-shadow: 0 1px 2px rgba(60, 64, 67, 0.3), 0 1px 3px 1px rgba(60, 64, 67, 0.15);\n",
              "    fill: var(--button-hover-fill-color);\n",
              "  }\n",
              "\n",
              "  .colab-df-quickchart-complete:disabled,\n",
              "  .colab-df-quickchart-complete:disabled:hover {\n",
              "    background-color: var(--disabled-bg-color);\n",
              "    fill: var(--disabled-fill-color);\n",
              "    box-shadow: none;\n",
              "  }\n",
              "\n",
              "  .colab-df-spinner {\n",
              "    border: 2px solid var(--fill-color);\n",
              "    border-color: transparent;\n",
              "    border-bottom-color: var(--fill-color);\n",
              "    animation:\n",
              "      spin 1s steps(1) infinite;\n",
              "  }\n",
              "\n",
              "  @keyframes spin {\n",
              "    0% {\n",
              "      border-color: transparent;\n",
              "      border-bottom-color: var(--fill-color);\n",
              "      border-left-color: var(--fill-color);\n",
              "    }\n",
              "    20% {\n",
              "      border-color: transparent;\n",
              "      border-left-color: var(--fill-color);\n",
              "      border-top-color: var(--fill-color);\n",
              "    }\n",
              "    30% {\n",
              "      border-color: transparent;\n",
              "      border-left-color: var(--fill-color);\n",
              "      border-top-color: var(--fill-color);\n",
              "      border-right-color: var(--fill-color);\n",
              "    }\n",
              "    40% {\n",
              "      border-color: transparent;\n",
              "      border-right-color: var(--fill-color);\n",
              "      border-top-color: var(--fill-color);\n",
              "    }\n",
              "    60% {\n",
              "      border-color: transparent;\n",
              "      border-right-color: var(--fill-color);\n",
              "    }\n",
              "    80% {\n",
              "      border-color: transparent;\n",
              "      border-right-color: var(--fill-color);\n",
              "      border-bottom-color: var(--fill-color);\n",
              "    }\n",
              "    90% {\n",
              "      border-color: transparent;\n",
              "      border-bottom-color: var(--fill-color);\n",
              "    }\n",
              "  }\n",
              "</style>\n",
              "\n",
              "  <script>\n",
              "    async function quickchart(key) {\n",
              "      const quickchartButtonEl =\n",
              "        document.querySelector('#' + key + ' button');\n",
              "      quickchartButtonEl.disabled = true;  // To prevent multiple clicks.\n",
              "      quickchartButtonEl.classList.add('colab-df-spinner');\n",
              "      try {\n",
              "        const charts = await google.colab.kernel.invokeFunction(\n",
              "            'suggestCharts', [key], {});\n",
              "      } catch (error) {\n",
              "        console.error('Error during call to suggestCharts:', error);\n",
              "      }\n",
              "      quickchartButtonEl.classList.remove('colab-df-spinner');\n",
              "      quickchartButtonEl.classList.add('colab-df-quickchart-complete');\n",
              "    }\n",
              "    (() => {\n",
              "      let quickchartButtonEl =\n",
              "        document.querySelector('#df-bce1e1c4-8639-47ab-a931-4896c91b43cf button');\n",
              "      quickchartButtonEl.style.display =\n",
              "        google.colab.kernel.accessAllowed ? 'block' : 'none';\n",
              "    })();\n",
              "  </script>\n",
              "</div>\n",
              "    </div>\n",
              "  </div>\n"
            ]
          },
          "metadata": {},
          "execution_count": 12
        }
      ]
    },
    {
      "cell_type": "code",
      "source": [
        "#menampilkan jumlah nilai null\n",
        "pinguin.isnull().sum()"
      ],
      "metadata": {
        "colab": {
          "base_uri": "https://localhost:8080/"
        },
        "id": "ssputsbvUrP2",
        "outputId": "a6b6a6d9-d4c2-4bc1-b7cc-345040d58e85"
      },
      "execution_count": null,
      "outputs": [
        {
          "output_type": "execute_result",
          "data": {
            "text/plain": [
              "species               0\n",
              "island                0\n",
              "bill_length_mm        2\n",
              "bill_depth_mm         2\n",
              "flipper_length_mm     2\n",
              "body_mass_g           2\n",
              "sex                  11\n",
              "dtype: int64"
            ]
          },
          "metadata": {},
          "execution_count": 15
        }
      ]
    },
    {
      "cell_type": "code",
      "source": [
        "#menghilangkan data yang null\n",
        "pinguin_not_null = pinguin.dropna()"
      ],
      "metadata": {
        "id": "w5ggG51BLe3u"
      },
      "execution_count": null,
      "outputs": []
    },
    {
      "cell_type": "code",
      "source": [
        "pinguin_not_null.isnull().sum()"
      ],
      "metadata": {
        "id": "5LlbAGnrLuB-"
      },
      "execution_count": null,
      "outputs": []
    },
    {
      "cell_type": "markdown",
      "source": [
        "## Berapa rata-rata berat badan pinguin untuk setiap jenis kelamin?"
      ],
      "metadata": {
        "id": "km9l_XOdDbfA"
      }
    },
    {
      "cell_type": "markdown",
      "source": [
        "**hint** : karena kolom species sudah di encode, silakan import ulang dataset pada variable baru, misal \"df_not_encoded\""
      ],
      "metadata": {
        "id": "1h_O9JYNFDql"
      }
    },
    {
      "cell_type": "code",
      "source": [
        "pinguin.groupby('sex')['body_mass_g'].mean()"
      ],
      "metadata": {
        "id": "-g750Kl6FDYo",
        "colab": {
          "base_uri": "https://localhost:8080/"
        },
        "outputId": "7e0785f4-9475-4c28-9a9d-e7b0bd80db43"
      },
      "execution_count": null,
      "outputs": [
        {
          "output_type": "execute_result",
          "data": {
            "text/plain": [
              "sex\n",
              "female    3862.272727\n",
              "male      4545.684524\n",
              "Name: body_mass_g, dtype: float64"
            ]
          },
          "metadata": {},
          "execution_count": 18
        }
      ]
    },
    {
      "cell_type": "markdown",
      "source": [
        "## Berapa rata-rata berat badan pinguin untuk masing-masing spesies?"
      ],
      "metadata": {
        "id": "cHiJDNAYE-TN"
      }
    },
    {
      "cell_type": "code",
      "source": [
        "pinguin.groupby('species')['body_mass_g'].mean()"
      ],
      "metadata": {
        "id": "RjVAHXDjD7zl"
      },
      "execution_count": null,
      "outputs": []
    },
    {
      "cell_type": "markdown",
      "source": [
        "## Ada berapa jumlah data pinguin untuk masing-masing pulau?"
      ],
      "metadata": {
        "id": "5ykUx7T3FZ6P"
      }
    },
    {
      "cell_type": "code",
      "source": [
        "pinguin['island'].value_counts()"
      ],
      "metadata": {
        "id": "w7aMPCGnFf7-",
        "colab": {
          "base_uri": "https://localhost:8080/"
        },
        "outputId": "f04560d7-0790-4e53-8059-71023c1a72b8"
      },
      "execution_count": null,
      "outputs": [
        {
          "output_type": "execute_result",
          "data": {
            "text/plain": [
              "Biscoe       168\n",
              "Dream        124\n",
              "Torgersen     52\n",
              "Name: island, dtype: int64"
            ]
          },
          "metadata": {},
          "execution_count": 20
        }
      ]
    },
    {
      "cell_type": "code",
      "source": [
        "pinguin.groupby('island').size()"
      ],
      "metadata": {
        "id": "QcYDx1Ci1fzg"
      },
      "execution_count": null,
      "outputs": []
    },
    {
      "cell_type": "markdown",
      "source": [
        "## [Bonus] Business Question tambahan"
      ],
      "metadata": {
        "id": "vrUb9NI7V5ta"
      }
    },
    {
      "cell_type": "code",
      "source": [
        "# [Tulis business kalian menggunakan komen, lalu tulis kode dicell yang sama]\n",
        "# Mengetahui perbedaan analisis statistik antara laki-laki dan perempuan\n",
        "pinguin.groupby('sex').describe()"
      ],
      "metadata": {
        "id": "TmemF4TYWAmI"
      },
      "execution_count": null,
      "outputs": []
    },
    {
      "cell_type": "markdown",
      "source": [
        "# Visualisasi Data"
      ],
      "metadata": {
        "id": "SncZ7rHtQ4_J"
      }
    },
    {
      "cell_type": "markdown",
      "source": [
        "**general rule** : anda akan diminta untuk membuat sebuah visualisasi untuk setiap jenis grafik yang sudah dipelajari.  Mengenai data yang digunakan untuk setiap grafik, lakukan analisis terhadap dataset, lalu tentukan kolom yang cocok untuk masing-masing jenis grafik. Sertakan reasoning terhadap grafik yang dibuat menggunakan komen, perhatikan contoh cell dibawah"
      ],
      "metadata": {
        "id": "wcBlyhoBRGu6"
      }
    },
    {
      "cell_type": "markdown",
      "source": [
        "## contoh"
      ],
      "metadata": {
        "id": "ZrW8x83cSAis"
      }
    },
    {
      "cell_type": "code",
      "source": [
        "#Grafik barplot untuk membandingkan jumlah pinguin dari setiap pulau\n",
        "[kode]"
      ],
      "metadata": {
        "id": "pFiIw-GeR9wx"
      },
      "execution_count": null,
      "outputs": []
    },
    {
      "cell_type": "code",
      "source": [
        "#Mengetahui jumlah pinguin setiap pulau\n",
        "pinguin.island.value_counts()"
      ],
      "metadata": {
        "id": "FXh6snWeW2VU"
      },
      "execution_count": null,
      "outputs": []
    },
    {
      "cell_type": "code",
      "source": [
        "#grafik versi 1\n",
        "pinguin.island.value_counts().plot(kind = 'bar')"
      ],
      "metadata": {
        "colab": {
          "base_uri": "https://localhost:8080/",
          "height": 500
        },
        "id": "h61EgxxTXDDw",
        "outputId": "3201b2af-10b4-4afd-c383-8b50cf6afd07"
      },
      "execution_count": null,
      "outputs": [
        {
          "output_type": "execute_result",
          "data": {
            "text/plain": [
              "<Axes: >"
            ]
          },
          "metadata": {},
          "execution_count": 26
        },
        {
          "output_type": "display_data",
          "data": {
            "text/plain": [
              "<Figure size 640x480 with 1 Axes>"
            ],
            "image/png": "[encoded data removed]"
          },
          "metadata": {}
        }
      ]
    },
    {
      "cell_type": "code",
      "source": [
        "#grafik versi 2\n",
        "plt.figure(figsize=(8, 6))\n",
        "sns.barplot(x=pinguin.island.value_counts().index, y=pinguin.island.value_counts().values, palette='Set3')\n",
        "plt.title('Jumlah Pinguin dari Setiap Pulau')\n",
        "plt.xlabel('Pulau')\n",
        "plt.ylabel('Jumlah')\n",
        "plt.xticks(rotation=45)  # Untuk memutar label sumbu x agar lebih mudah dibaca\n",
        "plt.show()"
      ],
      "metadata": {
        "colab": {
          "base_uri": "https://localhost:8080/",
          "height": 608
        },
        "id": "KhAQQlCvXgeC",
        "outputId": "d488ceef-9ea9-46f3-c062-d8c59d69ad2c"
      },
      "execution_count": null,
      "outputs": [
        {
          "output_type": "display_data",
          "data": {
            "text/plain": [
              "<Figure size 800x600 with 1 Axes>"
            ],
            "image/png": "[encoded data removed]"
          },
          "metadata": {}
        }
      ]
    },
    {
      "cell_type": "code",
      "source": [
        "sns.barplot(x=pinguin.island.value_counts().index, y=pinguin.island.value_counts().values)\n",
        "plt.show()"
      ],
      "metadata": {
        "colab": {
          "base_uri": "https://localhost:8080/",
          "height": 430
        },
        "id": "jgdM0lvA2u0N",
        "outputId": "e443ab97-31ab-4f8a-84f0-3deb839e0707"
      },
      "execution_count": null,
      "outputs": [
        {
          "output_type": "display_data",
          "data": {
            "text/plain": [
              "<Figure size 640x480 with 1 Axes>"
            ],
            "image/png": "[encoded data removed]"
          },
          "metadata": {}
        }
      ]
    },
    {
      "cell_type": "markdown",
      "source": [
        "## Barplot"
      ],
      "metadata": {
        "id": "u7m5p0EzSVE3"
      }
    },
    {
      "cell_type": "code",
      "source": [
        "# [tulis reasoning untuk visualisasi disini]"
      ],
      "metadata": {
        "id": "WJyjBewhSW3E"
      },
      "execution_count": null,
      "outputs": []
    },
    {
      "cell_type": "code",
      "source": [
        "#barplot untuk mengetahui jumlah pinguin berdasarkan jumlah jenis kelamin\n",
        "pinguin.sex.value_counts().plot(kind = 'bar')"
      ],
      "metadata": {
        "id": "SeKhjHooYM3U"
      },
      "execution_count": null,
      "outputs": []
    },
    {
      "cell_type": "code",
      "source": [
        "#barplot untuk mengetahui jumlah pinguin berdasarkan species\n",
        "pinguin.species.value_counts().plot(kind = 'barh')"
      ],
      "metadata": {
        "id": "pzKOz_8wY9bG"
      },
      "execution_count": null,
      "outputs": []
    },
    {
      "cell_type": "code",
      "source": [
        "sns.barplot(data=pinguin, x='island', y='body_mass_g', hue='sex')"
      ],
      "metadata": {
        "id": "6mpJ7YWR4xI0"
      },
      "execution_count": null,
      "outputs": []
    },
    {
      "cell_type": "markdown",
      "source": [
        "## Scatterplot"
      ],
      "metadata": {
        "id": "be3kNMLSSXDl"
      }
    },
    {
      "cell_type": "code",
      "source": [
        "# scatterplot hubungan massa badan dan panjang flipper"
      ],
      "metadata": {
        "id": "Xwy06CB6SmYb"
      },
      "execution_count": null,
      "outputs": []
    },
    {
      "cell_type": "code",
      "source": [
        "#scatterplot perbandingan massa badan dan panjang flipper\n",
        "pinguin.plot(x='body_mass_g', y='flipper_length_mm',style='x', figsize=(8,6), ylabel='Panjang Flipper (mm)', xlabel='Berat Badan (g)', legend=True)"
      ],
      "metadata": {
        "colab": {
          "base_uri": "https://localhost:8080/",
          "height": 559
        },
        "id": "9O3BGJFgZTdX",
        "outputId": "25f2f887-793d-41cb-9031-f9f7f471bb32"
      },
      "execution_count": null,
      "outputs": [
        {
          "output_type": "execute_result",
          "data": {
            "text/plain": [
              "<Axes: xlabel='Berat Badan (g)', ylabel='Panjang Flipper (mm)'>"
            ]
          },
          "metadata": {},
          "execution_count": 37
        },
        {
          "output_type": "display_data",
          "data": {
            "text/plain": [
              "<Figure size 800x600 with 1 Axes>"
            ],
            "image/png": "[encoded data removed]"
          },
          "metadata": {}
        }
      ]
    },
    {
      "cell_type": "code",
      "source": [
        "#Scatterplot untuk mengetahui apakah massa badan dan panjang flipper memengaruhi jenis species pinguin\n",
        "plt.figure(figsize=(8, 6))\n",
        "sns.scatterplot(data=pinguin, x='flipper_length_mm', y='body_mass_g', hue='species', palette='Set1')\n",
        "plt.title('Scatterplot Panjang Flipper vs Berat Badan')\n",
        "plt.xlabel('Panjang Flipper (mm)')\n",
        "plt.ylabel('Berat Badan (g)')\n",
        "plt.legend(title='Spesies', loc='upper left')\n",
        "plt.show()"
      ],
      "metadata": {
        "id": "hSxSovC5aww_"
      },
      "execution_count": null,
      "outputs": []
    },
    {
      "cell_type": "markdown",
      "source": [
        "## Boxplot"
      ],
      "metadata": {
        "id": "fQrZ91kNSmlV"
      }
    },
    {
      "cell_type": "code",
      "source": [
        "# [tulis reasoning untuk visualisasi disini]"
      ],
      "metadata": {
        "id": "m3Sjz6myS13j"
      },
      "execution_count": null,
      "outputs": []
    },
    {
      "cell_type": "code",
      "source": [
        "#boxplot distribusi data jenis kelamin pinguin berdasarkan berat badan"
      ],
      "metadata": {
        "id": "3J4dqPcGdDd_"
      },
      "execution_count": null,
      "outputs": []
    },
    {
      "cell_type": "code",
      "source": [
        "#grafik latihan\n",
        "pinguin.boxplot('body_mass_g')"
      ],
      "metadata": {
        "id": "w-B2gcDlb6vd"
      },
      "execution_count": null,
      "outputs": []
    },
    {
      "cell_type": "code",
      "source": [
        "plt.figure(figsize=(8, 6))\n",
        "sns.boxplot(data=pinguin, x='sex', y='body_mass_g')\n",
        "plt.title('Boxplot Berat Badan Pinguin Berdasarkan Jenis Kelamin')\n",
        "plt.xlabel('Jenis Kelamin')\n",
        "plt.ylabel('Berat Badan (g)')\n",
        "plt.show()"
      ],
      "metadata": {
        "id": "-nwsh4GNct1H"
      },
      "execution_count": null,
      "outputs": []
    },
    {
      "cell_type": "markdown",
      "source": [
        "## Histogram"
      ],
      "metadata": {
        "id": "1eHxUqjuS2QX"
      }
    },
    {
      "cell_type": "code",
      "source": [
        "# [tulis reasoning untuk visualisasi disini]"
      ],
      "metadata": {
        "id": "MDI67iBMS7eB"
      },
      "execution_count": null,
      "outputs": []
    },
    {
      "cell_type": "code",
      "source": [
        "#histogram distribusi massa berat badan dari keseluruhan pinguin\n",
        "pinguin.body_mass_g.hist(figsize=(8,4), edgecolor='black')"
      ],
      "metadata": {
        "id": "VqONxdLbdLNc"
      },
      "execution_count": null,
      "outputs": []
    },
    {
      "cell_type": "code",
      "source": [
        "plt.figure(figsize=(8, 6))\n",
        "plt.hist(pinguin.body_mass_g, bins=20, color='skyblue', edgecolor='black')\n",
        "plt.title('Histogram Distribusi Berat Badan Pinguin')\n",
        "plt.xlabel('Berat Badan (g)')\n",
        "plt.ylabel('Frekuensi')\n",
        "plt.show()"
      ],
      "metadata": {
        "id": "n9VZQha-ewpm"
      },
      "execution_count": null,
      "outputs": []
    },
    {
      "cell_type": "markdown",
      "source": [
        "## Correlation Heatmap"
      ],
      "metadata": {
        "id": "yDVXSWXkS7w7"
      }
    },
    {
      "cell_type": "code",
      "source": [
        "# [tulis reasoning untuk visualisasi disini]"
      ],
      "metadata": {
        "id": "HrCRtgKjTHuG"
      },
      "execution_count": null,
      "outputs": []
    },
    {
      "cell_type": "code",
      "source": [
        "#grafik correlation heatmap yang menunjukan nilai korelasi antar kolom dari dataset yang ada"
      ],
      "metadata": {
        "id": "YN-TiuGCgAG-"
      },
      "execution_count": null,
      "outputs": []
    },
    {
      "cell_type": "code",
      "source": [
        "plt.figure(figsize=(10, 8))\n",
        "sns.heatmap(pinguin.corr(), annot=True, cmap='coolwarm', linewidths=0.5)\n",
        "plt.title('Heatmap Korelasi antar Kolom')\n",
        "plt.show()"
      ],
      "metadata": {
        "id": "6uesAgAIfaJt"
      },
      "execution_count": null,
      "outputs": []
    },
    {
      "cell_type": "code",
      "source": [
        "corrmat = pinguin.corr()\n",
        "f, ax = plt.subplots(figsize=(12,8))\n",
        "sns.heatmap(corrmat, square=True, annot=True)"
      ],
      "metadata": {
        "id": "vHbVkItIfiMJ"
      },
      "execution_count": null,
      "outputs": []
    },
    {
      "cell_type": "markdown",
      "source": [
        "# Data Mining"
      ],
      "metadata": {
        "id": "Sx47XhW9_2pI"
      }
    },
    {
      "cell_type": "markdown",
      "source": [
        "**General Rule** :\n",
        "\n",
        "\n",
        "*   Buatlah model menggunakan masing-masing algoritma\n",
        "*   Lakukan spliting data dengan rasio train:test sebesar 70:30\n",
        "*   Bandingkan nilai akurasi untuk splitting data tersebut dengan split data menggunakan cross validation 10 fold\n",
        "*   Tampilkan juga classification report untuk masing-masing model\n"
      ],
      "metadata": {
        "id": "vL62ct8ATdqy"
      }
    },
    {
      "cell_type": "markdown",
      "source": [
        "## Naive Bayes"
      ],
      "metadata": {
        "id": "knJk36wmUrDa"
      }
    },
    {
      "cell_type": "code",
      "source": [
        "data_nb = pinguin_not_null"
      ],
      "metadata": {
        "id": "qh0K4UttUvV3"
      },
      "execution_count": null,
      "outputs": []
    },
    {
      "cell_type": "code",
      "source": [
        "data_nb"
      ],
      "metadata": {
        "id": "nyOk-aPqb53V"
      },
      "execution_count": null,
      "outputs": []
    },
    {
      "cell_type": "code",
      "source": [
        "#memisahkan nilai x dan y\n",
        "X = data_nb.iloc[:, [2,3,4,5]].values\n",
        "y = data_nb.iloc[:, 0].values"
      ],
      "metadata": {
        "id": "iJQyZvhIMEYC"
      },
      "execution_count": null,
      "outputs": []
    },
    {
      "cell_type": "code",
      "source": [
        "X"
      ],
      "metadata": {
        "id": "xLpbHhQBNRUF"
      },
      "execution_count": null,
      "outputs": []
    },
    {
      "cell_type": "code",
      "source": [
        "#split data training-testing = 70:30\n",
        "X_train, X_test, y_train, y_test = train_test_split(X, y, test_size = 0.30, random_state = 0 )"
      ],
      "metadata": {
        "id": "CU96yNS1Nut1"
      },
      "execution_count": null,
      "outputs": []
    },
    {
      "cell_type": "code",
      "source": [
        "#tanpa cross validation\n",
        "classifier = GaussianNB()\n",
        "classifier.fit(X_train, y_train)\n",
        "y_pred_nb=classifier.predict(X_test)\n",
        "acc_nb=accuracy_score(y_test, y_pred_nb)\n",
        "print(acc_nb)"
      ],
      "metadata": {
        "id": "pia50fxZOm8O"
      },
      "execution_count": null,
      "outputs": []
    },
    {
      "cell_type": "code",
      "source": [
        "#dengan cross validation\n",
        "cross_val_score(classifier, X, y, cv=10).mean()"
      ],
      "metadata": {
        "id": "QPWXHB10TYY2"
      },
      "execution_count": null,
      "outputs": []
    },
    {
      "cell_type": "code",
      "source": [
        "#hasil classification report\n",
        "print(classification_report(y_test, y_pred_nb))"
      ],
      "metadata": {
        "id": "HrGHCnmfWPtv"
      },
      "execution_count": null,
      "outputs": []
    },
    {
      "cell_type": "markdown",
      "source": [
        "## KNN"
      ],
      "metadata": {
        "id": "0WaZXpTYUvpz"
      }
    },
    {
      "cell_type": "markdown",
      "source": [
        "*   coba nilai K sebesar 3, 5, 7, 9. Buatlah model dengan nilai K terbaik\n",
        "\n",
        "\n",
        "\n",
        "\n"
      ],
      "metadata": {
        "id": "eLJHxzL0Uxay"
      }
    },
    {
      "cell_type": "code",
      "source": [
        "data_knn = pinguin_not_null\n",
        "X = data_knn.iloc[:, [2,3,4,5]].values\n",
        "y = data_knn.iloc[:, 0].values\n",
        "X_train, X_test, y_train, y_test = train_test_split(X, y, test_size = 0.30, random_state = 0 )"
      ],
      "metadata": {
        "id": "ALMXxu05_5nP"
      },
      "execution_count": null,
      "outputs": []
    },
    {
      "cell_type": "code",
      "source": [
        "#tanpa cross validation\n",
        "k_values = [3, 5, 7, 9]\n",
        "for k in k_values:\n",
        "  print(\"k = \", k)\n",
        "  classifier_knn=KNeighborsClassifier(n_neighbors=k, metric='minkowski', p=2)\n",
        "  classifier_knn.fit(X_train,y_train)\n",
        "  y_pred_knn=classifier_knn.predict(X_test)\n",
        "  acc_knn=accuracy_score(y_test,y_pred_knn)\n",
        "  print(\"Akurasi : \", acc_knn)\n",
        "\n",
        "\n"
      ],
      "metadata": {
        "id": "SitJDd3gX0KY"
      },
      "execution_count": null,
      "outputs": []
    },
    {
      "cell_type": "code",
      "source": [
        "#dengan cross validation\n",
        "for k in k_values:\n",
        "  print(\"k = \", k)\n",
        "  classifier_knn=KNeighborsClassifier(n_neighbors=k, metric='minkowski', p=2)\n",
        "  classifier_knn.fit(X_train,y_train)\n",
        "\n",
        "  y_pred_knn=classifier.predict(X_test)\n",
        "  acc_cross_knn = cross_val_score(classifier_knn, X, y, cv=10).mean()\n",
        "  print(\"Akurasi : \", acc_cross_knn)"
      ],
      "metadata": {
        "id": "a5LPStlBaxoB"
      },
      "execution_count": null,
      "outputs": []
    },
    {
      "cell_type": "code",
      "source": [
        "for k in [3,5,7,9]:\n",
        "  print(\"K = \", k)\n",
        "  print(\"hasil report :\", classification_report(y_test, y_pred_knn), '\\n')"
      ],
      "metadata": {
        "id": "9cJZtNffcVGO"
      },
      "execution_count": null,
      "outputs": []
    },
    {
      "cell_type": "markdown",
      "source": [
        "## SVM"
      ],
      "metadata": {
        "id": "Fz1_o1X6VDbP"
      }
    },
    {
      "cell_type": "code",
      "source": [
        "data_svm = pinguin_not_null\n",
        "X = data_svm.iloc[:,[2,3,4,5]].values\n",
        "y = data_svm.iloc[:, 0].values\n",
        "X_train, X_test, y_train, y_test = train_test_split(X,y, test_size=0.30, random_state = 0)\n",
        "classifier_svc = SVC(kernel = \"rbf\", random_state = 0)\n",
        "classifier_svc.fit(X_train, y_train)\n",
        "y_pred_svc = classifier_svc.predict(X_test)\n",
        "#tanpa cross validation\n",
        "acc_svc=accuracy_score(y_test, y_pred_svc)\n",
        "print(acc_svc)"
      ],
      "metadata": {
        "id": "NGj5Ko_S_5rb"
      },
      "execution_count": null,
      "outputs": []
    },
    {
      "cell_type": "code",
      "source": [
        "#dengan cross validation\n",
        "cross_val_score(classifier_svc, X, y, cv=10).mean()"
      ],
      "metadata": {
        "id": "MeVXeS7TfAHC"
      },
      "execution_count": null,
      "outputs": []
    },
    {
      "cell_type": "code",
      "source": [
        "#hasil classification report\n",
        "print(classification_report(y_test, y_pred_svc))"
      ],
      "metadata": {
        "id": "4uxhvFkgfpB4"
      },
      "execution_count": null,
      "outputs": []
    },
    {
      "cell_type": "markdown",
      "source": [
        "## Logistic Regression"
      ],
      "metadata": {
        "id": "9S6a-QqeVHyj"
      }
    },
    {
      "cell_type": "code",
      "source": [
        "data_lr = pinguin_not_null\n",
        "X = data_lr.iloc[:,[2,3,4,5]].values\n",
        "y = data_lr.iloc[:, 0].values\n",
        "X_train, X_test, y_train, y_test = train_test_split(X,y, test_size=0.30, random_state = 0)\n",
        "classifier_lr = LogisticRegression(max_iter=10000)\n",
        "classifier_lr.fit(X_train, y_train)\n",
        "y_pred_lr = classifier_lr.predict(X_test)\n",
        "#tanpa cross validation\n",
        "acc_lr=accuracy_score(y_test, y_pred_lr)\n",
        "print(acc_lr)"
      ],
      "metadata": {
        "id": "FvRmZiAcVLcb"
      },
      "execution_count": null,
      "outputs": []
    },
    {
      "cell_type": "code",
      "source": [
        "#dengan cross validation\n",
        "cross_val_score(classifier_lr, X, y, cv=10).mean()"
      ],
      "metadata": {
        "id": "NC8VtdfshP-F"
      },
      "execution_count": null,
      "outputs": []
    },
    {
      "cell_type": "code",
      "source": [
        "#hasil classification report\n",
        "print(classification_report(y_test, y_pred_lr))"
      ],
      "metadata": {
        "id": "NATDoE4HhIbP"
      },
      "execution_count": null,
      "outputs": []
    },
    {
      "cell_type": "markdown",
      "source": [
        "## Decision Tree"
      ],
      "metadata": {
        "id": "TAJHXHSfVLrG"
      }
    },
    {
      "cell_type": "code",
      "source": [
        "data_dt = pinguin_not_null\n",
        "X = data_dt.iloc[:,[2,3,4,5]].values\n",
        "y = data_dt.iloc[:, 0].values\n",
        "X_train, X_test, y_train, y_test = train_test_split(X,y, test_size=0.30, random_state = 0)\n",
        "classifier_dt = DecisionTreeClassifier()\n",
        "classifier_dt.fit(X_train, y_train)\n",
        "y_pred_dt = classifier_dt.predict(X_test)\n",
        "#tanpa cross validation\n",
        "acc_dt=accuracy_score(y_test, y_pred_dt)\n",
        "print(acc_dt)"
      ],
      "metadata": {
        "id": "EQyN7IHsVPeQ"
      },
      "execution_count": null,
      "outputs": []
    },
    {
      "cell_type": "code",
      "source": [
        "cv_scores_dt = cross_val_score(classifier_dt, X, y, cv=10)\n",
        "np.mean(cv_scores_dt)"
      ],
      "metadata": {
        "id": "JI0NW8zUiqLs"
      },
      "execution_count": null,
      "outputs": []
    },
    {
      "cell_type": "code",
      "source": [
        "cross_val_score(classifier_dt, X, y, cv=10).mean()"
      ],
      "metadata": {
        "id": "7Dxvqf2ujALH"
      },
      "execution_count": null,
      "outputs": []
    },
    {
      "cell_type": "code",
      "source": [
        "#hasil classification report\n",
        "print(classification_report(y_test, y_pred_dt))"
      ],
      "metadata": {
        "id": "733-grIfjnbj"
      },
      "execution_count": null,
      "outputs": []
    },
    {
      "cell_type": "markdown",
      "source": [
        "\n",
        "\n",
        "--------------\n",
        "\n"
      ],
      "metadata": {
        "id": "zTJ5qDHwXH5i"
      }
    },
    {
      "cell_type": "markdown",
      "source": [
        "# Selesai 🐈"
      ],
      "metadata": {
        "id": "6h3IjT3GXQb2"
      }
    }
  ]
}